{
 "cells": [
  {
   "cell_type": "markdown",
   "metadata": {
    "deletable": true,
    "editable": true
   },
   "source": [
    "# Testing the Musical MDN Code\n",
    "\n",
    "- Setup the system."
   ]
  },
  {
   "cell_type": "code",
   "execution_count": 1,
   "metadata": {
    "collapsed": false,
    "deletable": true,
    "editable": true
   },
   "outputs": [
    {
     "name": "stdout",
     "output_type": "stream",
     "text": [
      "/home/kaiolae/tf_models/mdn-experiments/\n"
     ]
    }
   ],
   "source": [
    "from __future__ import absolute_import\n",
    "from __future__ import division\n",
    "from __future__ import print_function\n",
    "import random\n",
    "import numpy as np\n",
    "import tensorflow as tf\n",
    "import musical_mdn\n",
    "import matplotlib.pyplot as plt\n",
    "import pandas as pd\n",
    "\n",
    "musical_mdn.MODEL_DIR = \"/home/kaiolae/tf_models/mdn-experiments/\"\n",
    "print(musical_mdn.MODEL_DIR)"
   ]
  },
  {
   "cell_type": "markdown",
   "metadata": {
    "deletable": true,
    "editable": true
   },
   "source": [
    "## Training Test"
   ]
  },
  {
   "cell_type": "markdown",
   "metadata": {
    "deletable": true,
    "editable": true
   },
   "source": []
  },
  {
   "cell_type": "code",
   "execution_count": null,
   "metadata": {
    "collapsed": false,
    "deletable": true,
    "editable": true
   },
   "outputs": [],
   "source": [
    "x_t_log = musical_mdn.generate_data()\n",
    "loader = musical_mdn.SequenceDataLoader(num_steps = 121,batch_size = 100, corpus = x_t_log)\n",
    "net = musical_mdn.TinyJamNet2D(mode = musical_mdn.NET_MODE_TRAIN, n_hidden_units = 128, n_mixtures = 10, batch_size = 100, sequence_length = 120)\n",
    "losses = net.train(loader, 30, saving=True)\n",
    "## Plot the losses.\n",
    "plt.plot(losses)\n",
    "plt.show()"
   ]
  },
  {
   "cell_type": "markdown",
   "metadata": {
    "deletable": true,
    "editable": true
   },
   "source": [
    "## Evaluation Test\n",
    "\n",
    "Predict 10000 Datapoints and plot some segments."
   ]
  },
  {
   "cell_type": "code",
   "execution_count": 2,
   "metadata": {
    "collapsed": false,
    "deletable": true,
    "editable": true
   },
   "outputs": [
    {
     "name": "stdout",
     "output_type": "stream",
     "text": [
      "INFO:tensorflow:Loading Running Operations\n",
      "INFO:tensorflow:done initialising: tiny-perf-mdn-1layers-128units vars: 73522\n"
     ]
    }
   ],
   "source": [
    "## Evaluation Test:\n",
    "## Predict 10000 Datapoints.\n",
    "net = musical_mdn.TinyJamNet2D(mode = musical_mdn.NET_MODE_RUN, n_hidden_units = 128, n_mixtures = 10, batch_size = 1, sequence_length = 1)"
   ]
  },
  {
   "cell_type": "code",
   "execution_count": 3,
   "metadata": {
    "collapsed": false,
    "deletable": true,
    "editable": true
   },
   "outputs": [
    {
     "name": "stdout",
     "output_type": "stream",
     "text": [
      "Test Input: [ 0.01023662 -2.64443271]\n",
      "INFO:tensorflow:Restoring parameters from /home/kaiolae/tf_models/mdn-experiments/tiny-perf-mdn-1layers-128units\n",
      "state was  (LSTMStateTuple(c=array([[ 0.07646494, -0.09791274,  0.11379239,  0.04339258,  0.07476084,\n",
      "        -0.09930243,  0.076075  , -0.09341063,  0.06690206, -0.1137906 ,\n",
      "        -0.06179912, -0.02963928,  0.04300272, -0.05904832,  0.06706566,\n",
      "         0.10903636, -0.00919243, -0.09551886, -0.10187416,  0.10499252,\n",
      "        -0.08563261, -0.01482554,  0.00522251, -0.12051389, -0.03193808,\n",
      "        -0.0340669 , -0.02211133,  0.055173  ,  0.0332939 ,  0.0756783 ,\n",
      "        -0.0672911 , -0.03974848, -0.09728199, -0.0615373 ,  0.03883335,\n",
      "        -0.06800436,  0.04588168,  0.07618929, -0.05230745, -0.07144108,\n",
      "        -0.12923872, -0.0239985 ,  0.01378198, -0.09308418,  0.06856744,\n",
      "         0.08651469, -0.01509997,  0.01417179,  0.13500229,  0.01666916,\n",
      "        -0.02418959,  0.03208335, -0.00958734, -0.07298439, -0.12884754,\n",
      "        -0.01117966,  0.05149626, -0.0697993 ,  0.10769435,  0.06675819,\n",
      "        -0.11677279,  0.063853  ,  0.03838479,  0.11702957, -0.01482594,\n",
      "         0.07213395,  0.07494772, -0.03092411,  0.01184729,  0.08983929,\n",
      "        -0.1245518 , -0.06169251,  0.02492809,  0.09612462, -0.01922932,\n",
      "         0.08947679, -0.05572665,  0.05959596,  0.07935826, -0.03078186,\n",
      "         0.00967553, -0.00729568, -0.0164117 , -0.10336336,  0.06047153,\n",
      "         0.07533941, -0.10707077,  0.09816092, -0.03336952, -0.03269306,\n",
      "         0.10095033,  0.01999781, -0.10053197, -0.07534932,  0.11636921,\n",
      "         0.09788571,  0.07055688, -0.02467994,  0.02068747, -0.05705196,\n",
      "        -0.03590166, -0.03837457,  0.06944849,  0.02353238,  0.1221929 ,\n",
      "         0.07429648,  0.07983155,  0.07440649, -0.02871857, -0.03900439,\n",
      "        -0.0584957 , -0.01940992, -0.05219339, -0.0954143 ,  0.04109382,\n",
      "        -0.10874259, -0.01350615,  0.06423783,  0.06817415,  0.12512136,\n",
      "         0.09847388, -0.03427536, -0.00700299, -0.07206211,  0.09075248,\n",
      "         0.02761436,  0.02239092, -0.03098999]], dtype=float32), h=array([[ 0.03933206, -0.04495601,  0.06032932,  0.02251663,  0.04136125,\n",
      "        -0.0490174 ,  0.04036765, -0.04614747,  0.03179281, -0.05670168,\n",
      "        -0.03160601, -0.01390226,  0.02287165, -0.02665786,  0.03658159,\n",
      "         0.05913493, -0.00447322, -0.04993408, -0.04523084,  0.04662455,\n",
      "        -0.04640171, -0.00802252,  0.00279142, -0.05989353, -0.01709708,\n",
      "        -0.01525768, -0.01062167,  0.02422859,  0.0149905 ,  0.03635377,\n",
      "        -0.03361886, -0.02045896, -0.05099401, -0.03333201,  0.01922229,\n",
      "        -0.03403208,  0.02473887,  0.04159684, -0.02885506, -0.03625556,\n",
      "        -0.06802272, -0.01164333,  0.00714142, -0.04318873,  0.02992389,\n",
      "         0.04203239, -0.00756018,  0.00713252,  0.07274938,  0.00793076,\n",
      "        -0.01138725,  0.01758647, -0.00460411, -0.03607497, -0.06707246,\n",
      "        -0.00567348,  0.02376916, -0.0378922 ,  0.05009341,  0.032671  ,\n",
      "        -0.06142698,  0.02893673,  0.02130274,  0.06262986, -0.00736737,\n",
      "         0.03428089,  0.04165623, -0.01662656,  0.00641877,  0.04515174,\n",
      "        -0.0652306 , -0.03049218,  0.0113452 ,  0.04729216, -0.01038109,\n",
      "         0.04093895, -0.02521065,  0.03113834,  0.0423118 , -0.01610764,\n",
      "         0.00527224, -0.00367485, -0.0086616 , -0.05801647,  0.0308563 ,\n",
      "         0.03260273, -0.055291  ,  0.04717331, -0.01678966, -0.01717187,\n",
      "         0.04556001,  0.01004054, -0.04947471, -0.03442352,  0.05832112,\n",
      "         0.04497857,  0.03197377, -0.01273314,  0.01122891, -0.02511211,\n",
      "        -0.01613865, -0.01804619,  0.0335397 ,  0.01192753,  0.05810691,\n",
      "         0.03630648,  0.04450962,  0.03523623, -0.01283267, -0.01793887,\n",
      "        -0.02581684, -0.00875164, -0.02536729, -0.05351949,  0.01890985,\n",
      "        -0.05330588, -0.00610331,  0.03283565,  0.031499  ,  0.06471611,\n",
      "         0.04309085, -0.01853235, -0.00368363, -0.03748734,  0.04997513,\n",
      "         0.01368073,  0.01062035, -0.01466104]], dtype=float32)),)\n",
      "state was  (LSTMStateTuple(c=array([[ 0.06907041, -0.11213285,  0.1076038 ,  0.03686467,  0.06367052,\n",
      "        -0.11363083,  0.07503534, -0.06511335,  0.05988212, -0.10859787,\n",
      "        -0.06342235, -0.02623439,  0.04819489, -0.05128207,  0.0433046 ,\n",
      "         0.11800633,  0.00450615, -0.0859467 , -0.08591944,  0.10543591,\n",
      "        -0.08427805, -0.04091217,  0.00969462, -0.10804191, -0.03768564,\n",
      "        -0.02660121, -0.02153308,  0.06005122,  0.02776796,  0.0826223 ,\n",
      "        -0.05802179, -0.03819417, -0.10036651, -0.05851195,  0.03518368,\n",
      "        -0.07279134,  0.05913843,  0.07296506, -0.05036357, -0.07681378,\n",
      "        -0.13255933, -0.01047225, -0.00342219, -0.06919144,  0.07570409,\n",
      "         0.1079205 , -0.03759782, -0.00254192,  0.15021211,  0.01896295,\n",
      "        -0.01889715,  0.03480745, -0.02226909, -0.06166315, -0.15491351,\n",
      "        -0.01578126,  0.05457453, -0.07568166,  0.12746644,  0.08446839,\n",
      "        -0.13780509,  0.05691405,  0.01458734,  0.10952611, -0.00997114,\n",
      "         0.07902075,  0.09417993, -0.04138288,  0.01398318,  0.09842718,\n",
      "        -0.13781343, -0.0393328 , -0.00483568,  0.10462596, -0.0251704 ,\n",
      "         0.0682844 , -0.04889337,  0.05371128,  0.07158625, -0.03634076,\n",
      "         0.00961472, -0.01773677, -0.01278033, -0.09485448,  0.04568319,\n",
      "         0.07967112, -0.09910977,  0.10128824, -0.02052022, -0.01977148,\n",
      "         0.10442463,  0.00975893, -0.10928524, -0.06870829,  0.11750551,\n",
      "         0.09206172,  0.06289466, -0.01723357,  0.01139887, -0.05310539,\n",
      "        -0.03931859, -0.02490163,  0.04813524,  0.02320417,  0.12944424,\n",
      "         0.09563214,  0.10962159,  0.07000969, -0.05702651, -0.04049546,\n",
      "        -0.05671284, -0.01124657, -0.04592871, -0.06112216,  0.03619606,\n",
      "        -0.09034982,  0.01384216,  0.04338425,  0.09088287,  0.14308871,\n",
      "         0.07384042, -0.02241647, -0.02689952, -0.07217899,  0.09682235,\n",
      "         0.01846037,  0.03080253, -0.01067213]], dtype=float32), h=array([[ 0.03360484, -0.05454537,  0.05345586,  0.01853502,  0.0328517 ,\n",
      "        -0.05660644,  0.03870109, -0.03223895,  0.02956449, -0.05347794,\n",
      "        -0.03148572, -0.01319238,  0.02432086, -0.02477817,  0.02215363,\n",
      "         0.06061656,  0.00220977, -0.04355158, -0.0406711 ,  0.05096919,\n",
      "        -0.04407201, -0.02032036,  0.00509548, -0.05472584, -0.01905009,\n",
      "        -0.01248935, -0.01042695,  0.02943725,  0.01339839,  0.03919578,\n",
      "        -0.02821806, -0.01949698, -0.05111538, -0.02970456,  0.0173329 ,\n",
      "        -0.03598463,  0.03024687,  0.03640612, -0.02626215, -0.0386511 ,\n",
      "        -0.06617281, -0.00527412, -0.00171012, -0.03356857,  0.03634978,\n",
      "         0.05363703, -0.01858489, -0.00128089,  0.07665065,  0.00949564,\n",
      "        -0.00936997,  0.01757604, -0.0109657 , -0.03032991, -0.07900448,\n",
      "        -0.00803853,  0.02679081, -0.03861072,  0.06194757,  0.04161783,\n",
      "        -0.06947085,  0.02789755,  0.00750089,  0.05573332, -0.00494921,\n",
      "         0.03879585,  0.04913911, -0.02110129,  0.00702848,  0.04844053,\n",
      "        -0.07009112, -0.01962342, -0.00227321,  0.0524634 , -0.01301127,\n",
      "         0.03304696, -0.02376293,  0.02633188,  0.03656377, -0.01837916,\n",
      "         0.00491149, -0.00870421, -0.00651629, -0.04788278,  0.02307721,\n",
      "         0.03788831, -0.05022471,  0.05058429, -0.01025239, -0.00982704,\n",
      "         0.04990669,  0.00484284, -0.05389522, -0.03329509,  0.05801683,\n",
      "         0.0436107 ,  0.02966656, -0.00850796,  0.00594259, -0.02556575,\n",
      "        -0.01916681, -0.01219959,  0.02381716,  0.01184235,  0.06334548,\n",
      "         0.0473815 ,  0.05602241,  0.03564366, -0.0271988 , -0.0196868 ,\n",
      "        -0.02724721, -0.00531479, -0.02216881, -0.03082881,  0.01745152,\n",
      "        -0.04522168,  0.00685927,  0.021346  ,  0.04477704,  0.07264903,\n",
      "         0.03530799, -0.0117714 , -0.01369971, -0.03596336,  0.05007019,\n",
      "         0.00885883,  0.0152875 , -0.0052476 ]], dtype=float32)),)\n",
      "state was  (LSTMStateTuple(c=array([[ 0.05264529, -0.12067302,  0.11171047,  0.01918242,  0.06392018,\n",
      "        -0.14717571,  0.05391846, -0.05418871,  0.0370907 , -0.11169254,\n",
      "        -0.06172155, -0.00836585,  0.04516436, -0.03433783,  0.01338029,\n",
      "         0.12399152,  0.04107998, -0.08361909, -0.07575613,  0.09965298,\n",
      "        -0.09815301, -0.04614209,  0.01757368, -0.11876221, -0.06526153,\n",
      "        -0.0476573 , -0.01168933,  0.0457199 ,  0.00534865,  0.05366827,\n",
      "        -0.06552522, -0.02075652, -0.10553481, -0.0509655 ,  0.02731604,\n",
      "        -0.07206814,  0.08867915,  0.07764642, -0.04297786, -0.09677767,\n",
      "        -0.14201388, -0.00838018,  0.00384318, -0.06563552,  0.07785548,\n",
      "         0.14113018, -0.03433821,  0.00523441,  0.18052588, -0.00021928,\n",
      "        -0.02205716,  0.04313904, -0.04969238, -0.06988999, -0.16215974,\n",
      "        -0.01522832,  0.06885377, -0.08178968,  0.14581291,  0.09937498,\n",
      "        -0.14840592,  0.02590693, -0.01123564,  0.08060917,  0.00182613,\n",
      "         0.07711241,  0.09556907, -0.06453703,  0.01940879,  0.08210118,\n",
      "        -0.13605613, -0.02773415, -0.03804656,  0.12555996, -0.03829554,\n",
      "         0.06204191, -0.04043325,  0.02821273,  0.08097574, -0.02965247,\n",
      "         0.00989297, -0.0050067 , -0.01165541, -0.08059946,  0.02390873,\n",
      "         0.0802456 , -0.11257181,  0.12599324, -0.02859471, -0.02708464,\n",
      "         0.09834688,  0.00843886, -0.10888364, -0.03903761,  0.13316405,\n",
      "         0.08617038,  0.06770029, -0.0214646 , -0.00351501, -0.05578697,\n",
      "        -0.02640183, -0.00298443,  0.04375854,  0.03319202,  0.12110411,\n",
      "         0.08282819,  0.15162915,  0.03971617, -0.06006392, -0.04322765,\n",
      "        -0.04054395, -0.01095691, -0.06200851, -0.0350122 ,  0.06259127,\n",
      "        -0.09977359,  0.02892938,  0.03333766,  0.06988849,  0.16384751,\n",
      "         0.06929461,  0.0035066 , -0.02190932, -0.05175074,  0.11108997,\n",
      "        -0.00839995,  0.05744098,  0.00271817]], dtype=float32), h=array([[ 0.02546348, -0.05869591,  0.05427732,  0.00935716,  0.03260514,\n",
      "        -0.0715123 ,  0.02714697, -0.02732672,  0.01812662, -0.05448689,\n",
      "        -0.03064192, -0.00433079,  0.02244031, -0.01729664,  0.00690799,\n",
      "         0.06377315,  0.02014781, -0.04182791, -0.03486481,  0.04702352,\n",
      "        -0.05018218, -0.02274632,  0.00939839, -0.06028559, -0.03314202,\n",
      "        -0.02235458, -0.00558228,  0.02197874,  0.00261488,  0.02562975,\n",
      "        -0.03266734, -0.01067954, -0.0543987 , -0.0253759 ,  0.01357103,\n",
      "        -0.03656997,  0.04535017,  0.03809172, -0.02170429, -0.04767905,\n",
      "        -0.07045682, -0.00430358,  0.00193103, -0.0324326 ,  0.0369571 ,\n",
      "         0.06906222, -0.01667668,  0.00266711,  0.0904429 , -0.00010762,\n",
      "        -0.01104517,  0.02156142, -0.02515471, -0.03365552, -0.08126812,\n",
      "        -0.0078327 ,  0.03406316, -0.04120342,  0.07091477,  0.04954756,\n",
      "        -0.07542794,  0.01319269, -0.00580198,  0.04010636,  0.00090858,\n",
      "         0.03873537,  0.0500857 , -0.03357646,  0.00991241,  0.04120348,\n",
      "        -0.06898747, -0.01361549, -0.01827897,  0.06274152, -0.01959999,\n",
      "         0.03013491, -0.01947611,  0.01386196,  0.04146606, -0.01520171,\n",
      "         0.00499225, -0.00237584, -0.00575471, -0.04096394,  0.01170243,\n",
      "         0.03838094, -0.05725078,  0.06451482, -0.01427413, -0.0131946 ,\n",
      "         0.04641102,  0.00410739, -0.05422083, -0.01893169,  0.06545557,\n",
      "         0.04132262,  0.03251193, -0.01073979, -0.00186719, -0.02687096,\n",
      "        -0.01260023, -0.00142736,  0.02196663,  0.01706341,  0.06021434,\n",
      "         0.04038274,  0.07942771,  0.01989693, -0.02880622, -0.02105717,\n",
      "        -0.01966079, -0.00526289, -0.03017548, -0.01768904,  0.03067197,\n",
      "        -0.04976656,  0.01422311,  0.01624344,  0.03450978,  0.08407412,\n",
      "         0.03238401,  0.00188549, -0.01151274, -0.02573799,  0.05824227,\n",
      "        -0.00394704,  0.02794369,  0.00136691]], dtype=float32)),)\n",
      "state was  (LSTMStateTuple(c=array([[  1.16989374e-01,  -2.10869193e-01,   1.93622157e-01,\n",
      "          7.84092247e-02,   1.07438609e-01,  -2.05705285e-01,\n",
      "          1.50360316e-01,  -1.16366118e-01,   1.25461370e-01,\n",
      "         -2.12422192e-01,  -1.30672768e-01,  -6.95275888e-02,\n",
      "          9.23557580e-02,  -1.08837068e-01,   7.66205937e-02,\n",
      "          2.52440691e-01,   2.77122296e-03,  -1.61689728e-01,\n",
      "         -1.56060740e-01,   2.28283808e-01,  -1.46012634e-01,\n",
      "         -7.95997083e-02,   2.69714594e-02,  -1.83973655e-01,\n",
      "         -5.98012321e-02,  -2.60405578e-02,  -3.79532874e-02,\n",
      "          1.33606210e-01,   6.09275214e-02,   1.82464525e-01,\n",
      "         -9.69219208e-02,  -8.14464539e-02,  -1.88294291e-01,\n",
      "         -1.22458987e-01,   7.32544065e-02,  -1.52953461e-01,\n",
      "          1.11665599e-01,   1.43938869e-01,  -9.75831747e-02,\n",
      "         -1.43774807e-01,  -2.54838407e-01,   6.86044805e-05,\n",
      "         -1.07794376e-02,  -1.26911879e-01,   1.66435316e-01,\n",
      "          1.95840150e-01,  -8.81492198e-02,  -2.57171709e-02,\n",
      "          2.93889642e-01,   5.91068827e-02,  -2.52467413e-02,\n",
      "          6.68269992e-02,  -2.14946177e-02,  -1.00947261e-01,\n",
      "         -2.91387916e-01,  -2.77090296e-02,   1.00993633e-01,\n",
      "         -1.56549394e-01,   2.51445949e-01,   1.74043685e-01,\n",
      "         -2.83505917e-01,   1.23110123e-01,   2.13773139e-02,\n",
      "          2.25625098e-01,  -1.50810517e-02,   1.62282437e-01,\n",
      "          1.86991096e-01,  -6.60991892e-02,   3.22863236e-02,\n",
      "          2.07376540e-01,  -2.93827295e-01,  -6.41644672e-02,\n",
      "          9.50966589e-03,   2.04351649e-01,  -3.13762352e-02,\n",
      "          1.17696233e-01,  -8.47015530e-02,   1.05856717e-01,\n",
      "          1.23366043e-01,  -7.59120286e-02,   2.61445865e-02,\n",
      "         -4.33779322e-02,  -2.49020532e-02,  -1.92250699e-01,\n",
      "          8.91978070e-02,   1.69972494e-01,  -1.71965092e-01,\n",
      "          1.85918346e-01,  -2.85770018e-02,  -2.05358099e-02,\n",
      "          2.05867320e-01,   1.26948589e-02,  -2.12363839e-01,\n",
      "         -1.66374281e-01,   2.27730602e-01,   1.75107434e-01,\n",
      "          9.48885232e-02,  -2.06687152e-02,   3.33757773e-02,\n",
      "         -9.49171409e-02,  -1.10529505e-01,  -5.26915938e-02,\n",
      "          8.19800124e-02,   2.14421880e-02,   2.71220505e-01,\n",
      "          2.04270080e-01,   1.87512577e-01,   1.43653795e-01,\n",
      "         -1.21459901e-01,  -7.80838877e-02,  -1.27106369e-01,\n",
      "         -7.15536857e-03,  -8.19545016e-02,  -1.12784982e-01,\n",
      "          5.50929084e-02,  -1.46005914e-01,   4.19546887e-02,\n",
      "          6.97805434e-02,   1.95882380e-01,   2.83046365e-01,\n",
      "          1.13200128e-01,  -5.03510758e-02,  -5.63904867e-02,\n",
      "         -1.48922473e-01,   1.84194833e-01,   3.94781269e-02,\n",
      "          3.02309580e-02,  -7.45668914e-03]], dtype=float32), h=array([[  5.99163771e-02,  -9.43798125e-02,   1.04061015e-01,\n",
      "          4.28242646e-02,   6.17403574e-02,  -1.04145639e-01,\n",
      "          8.43231380e-02,  -5.57704680e-02,   6.00470044e-02,\n",
      "         -1.05248831e-01,  -6.61289021e-02,  -3.14405672e-02,\n",
      "          5.07140942e-02,  -4.44510691e-02,   4.22385558e-02,\n",
      "          1.38210088e-01,   1.33108988e-03,  -8.80098119e-02,\n",
      "         -6.79734722e-02,   1.00518614e-01,  -8.50990415e-02,\n",
      "         -4.32876311e-02,   1.45876277e-02,  -9.22174826e-02,\n",
      "         -3.22422162e-02,  -1.08805075e-02,  -1.78876873e-02,\n",
      "          5.93793243e-02,   2.56771147e-02,   8.23627263e-02,\n",
      "         -4.52399403e-02,  -4.18164395e-02,  -9.85147953e-02,\n",
      "         -6.85890391e-02,   3.47300880e-02,  -7.27023035e-02,\n",
      "          6.03056215e-02,   7.97935873e-02,  -5.73780239e-02,\n",
      "         -7.60502443e-02,  -1.33690357e-01,   3.23085551e-05,\n",
      "         -5.52635547e-03,  -5.43843433e-02,   6.98226988e-02,\n",
      "          9.63708982e-02,  -4.44961265e-02,  -1.29412068e-02,\n",
      "          1.60889447e-01,   2.86783855e-02,  -1.15567790e-02,\n",
      "          3.72052528e-02,  -9.82646924e-03,  -5.05743064e-02,\n",
      "         -1.54810056e-01,  -1.41078355e-02,   4.52123061e-02,\n",
      "         -8.77211019e-02,   1.12158597e-01,   8.01732093e-02,\n",
      "         -1.45530924e-01,   5.15671112e-02,   1.21138440e-02,\n",
      "          1.24889262e-01,  -7.43146287e-03,   7.22794756e-02,\n",
      "          1.05865970e-01,  -3.51505019e-02,   1.72490906e-02,\n",
      "          9.89456996e-02,  -1.54643804e-01,  -3.27547900e-02,\n",
      "          3.86011694e-03,   1.00263335e-01,  -1.75630245e-02,\n",
      "          5.19398116e-02,  -3.84713560e-02,   5.35722598e-02,\n",
      "          6.64867088e-02,  -3.97220291e-02,   1.48528730e-02,\n",
      "         -2.25023478e-02,  -1.38904331e-02,  -1.07156061e-01,\n",
      "          4.80300039e-02,   6.95014596e-02,  -8.93020481e-02,\n",
      "          8.62440243e-02,  -1.44432206e-02,  -1.10862022e-02,\n",
      "          9.01089832e-02,   6.52553141e-03,  -1.00995004e-01,\n",
      "         -7.35001415e-02,   1.12562142e-01,   7.38939121e-02,\n",
      "          4.04962599e-02,  -1.03998873e-02,   1.81541797e-02,\n",
      "         -4.06098217e-02,  -4.96487767e-02,  -2.56116558e-02,\n",
      "          3.84508744e-02,   1.09270448e-02,   1.21159211e-01,\n",
      "          1.00393936e-01,   1.02143057e-01,   7.08865374e-02,\n",
      "         -5.11328056e-02,  -3.51935923e-02,  -5.21535613e-02,\n",
      "         -2.94178445e-03,  -3.77407447e-02,  -6.33429140e-02,\n",
      "          2.41333544e-02,  -7.24297911e-02,   1.89420786e-02,\n",
      "          3.59531753e-02,   8.89655128e-02,   1.43969625e-01,\n",
      "          4.94620092e-02,  -2.72472128e-02,  -2.83888113e-02,\n",
      "         -7.69407749e-02,   1.01394437e-01,   1.97514258e-02,\n",
      "          1.47288684e-02,  -3.37077118e-03]], dtype=float32)),)\n",
      "state was  (LSTMStateTuple(c=array([[  1.26233742e-01,  -2.55178332e-01,   2.34492064e-01,\n",
      "          7.14165643e-02,   1.26875818e-01,  -2.70282626e-01,\n",
      "          1.55706584e-01,  -1.17722213e-01,   1.22801408e-01,\n",
      "         -2.54090041e-01,  -1.61837608e-01,  -6.45349473e-02,\n",
      "          1.09480396e-01,  -1.10257812e-01,   6.02527298e-02,\n",
      "          3.10468614e-01,   4.28252518e-02,  -1.87702149e-01,\n",
      "         -1.79641604e-01,   2.62570679e-01,  -1.84451371e-01,\n",
      "         -9.87206250e-02,   4.13797945e-02,  -2.17915609e-01,\n",
      "         -9.45226550e-02,  -5.08917272e-02,  -3.71904708e-02,\n",
      "          1.55060634e-01,   5.08830920e-02,   1.93259597e-01,\n",
      "         -1.18922114e-01,  -7.37261027e-02,  -2.26784185e-01,\n",
      "         -1.35538295e-01,   8.40225592e-02,  -1.83592364e-01,\n",
      "          1.63155049e-01,   1.82981893e-01,  -1.13570526e-01,\n",
      "         -1.86474442e-01,  -2.94522941e-01,   2.18162965e-03,\n",
      "         -1.33792292e-02,  -1.47205234e-01,   2.02978909e-01,\n",
      "          2.59129256e-01,  -1.03366412e-01,  -2.15494502e-02,\n",
      "          3.80761027e-01,   4.33397107e-02,  -3.72240543e-02,\n",
      "          8.53328705e-02,  -5.03045097e-02,  -1.29508734e-01,\n",
      "         -3.56102049e-01,  -2.95782238e-02,   1.33831710e-01,\n",
      "         -1.93193287e-01,   3.15867126e-01,   2.26063415e-01,\n",
      "         -3.56426954e-01,   1.24126218e-01,   3.00656073e-04,\n",
      "          2.46544749e-01,  -4.92578512e-03,   1.90142766e-01,\n",
      "          2.36311466e-01,  -9.54066515e-02,   4.40979749e-02,\n",
      "          2.35940874e-01,  -3.48621309e-01,  -6.15369119e-02,\n",
      "          3.33299208e-03,   2.61997014e-01,  -4.71561700e-02,\n",
      "          1.29259914e-01,  -9.36567932e-02,   1.15452379e-01,\n",
      "          1.47564799e-01,  -8.59773234e-02,   1.95400417e-02,\n",
      "         -4.48784791e-02,  -2.99988985e-02,  -2.10937977e-01,\n",
      "          7.75802433e-02,   1.94529682e-01,  -2.14634299e-01,\n",
      "          2.40124941e-01,  -3.96456458e-02,  -2.74876617e-02,\n",
      "          2.44875014e-01,   1.01623340e-02,  -2.49100596e-01,\n",
      "         -1.63685739e-01,   2.83147514e-01,   2.04919487e-01,\n",
      "          1.06308401e-01,  -2.55599953e-02,   2.59950757e-02,\n",
      "         -1.15213990e-01,  -1.12578183e-01,  -4.53940593e-02,\n",
      "          9.04496014e-02,   2.78996900e-02,   3.15787226e-01,\n",
      "          2.29777664e-01,   2.64226317e-01,   1.51069731e-01,\n",
      "         -1.56641930e-01,  -9.36091989e-02,  -1.43687442e-01,\n",
      "         -1.03912745e-02,  -1.14901125e-01,  -1.08170196e-01,\n",
      "          8.34151357e-02,  -1.77173272e-01,   6.98376894e-02,\n",
      "          7.56214708e-02,   2.26803482e-01,   3.48607659e-01,\n",
      "          1.20351844e-01,  -3.91295403e-02,  -6.24564737e-02,\n",
      "         -1.54032037e-01,   2.37968087e-01,   2.22360957e-02,\n",
      "          6.62596822e-02,   1.20263267e-02]], dtype=float32), h=array([[  6.04648218e-02,  -1.16039969e-01,   1.15453549e-01,\n",
      "          3.58691029e-02,   6.94515705e-02,  -1.30143255e-01,\n",
      "          8.29761773e-02,  -5.86111769e-02,   5.86741120e-02,\n",
      "         -1.20645598e-01,  -8.03616047e-02,  -3.23319025e-02,\n",
      "          5.65733016e-02,  -5.07374480e-02,   3.25164534e-02,\n",
      "          1.64688513e-01,   2.04277150e-02,  -9.77815390e-02,\n",
      "         -7.52394721e-02,   1.14137031e-01,  -1.02910668e-01,\n",
      "         -4.94966544e-02,   2.32286490e-02,  -1.11711204e-01,\n",
      "         -4.97998372e-02,  -2.13716906e-02,  -1.69530045e-02,\n",
      "          6.99457973e-02,   2.27540992e-02,   8.50999281e-02,\n",
      "         -5.68654947e-02,  -3.85209098e-02,  -1.19805537e-01,\n",
      "         -7.06740245e-02,   4.05838825e-02,  -9.07166004e-02,\n",
      "          8.69117230e-02,   9.24740136e-02,  -6.23533055e-02,\n",
      "         -9.34871659e-02,  -1.48370162e-01,   1.10223505e-03,\n",
      "         -6.79218490e-03,  -6.78093135e-02,   8.70614573e-02,\n",
      "          1.24762841e-01,  -4.99658026e-02,  -1.11535555e-02,\n",
      "          1.94805652e-01,   2.09931452e-02,  -1.79652851e-02,\n",
      "          4.46024574e-02,  -2.46166550e-02,  -6.21403605e-02,\n",
      "         -1.80580929e-01,  -1.54677294e-02,   6.23679198e-02,\n",
      "         -1.02238715e-01,   1.42723262e-01,   1.07467845e-01,\n",
      "         -1.80998415e-01,   5.91053702e-02,   1.65090911e-04,\n",
      "          1.27636969e-01,  -2.44328612e-03,   9.04940292e-02,\n",
      "          1.30881011e-01,  -5.17249368e-02,   2.32077204e-02,\n",
      "          1.14230551e-01,  -1.78525999e-01,  -3.04630212e-02,\n",
      "          1.41606189e-03,   1.29305452e-01,  -2.54392866e-02,\n",
      "          5.86908162e-02,  -4.28220183e-02,   5.57639897e-02,\n",
      "          7.84171671e-02,  -4.52399403e-02,   1.04454262e-02,\n",
      "         -2.13582497e-02,  -1.55899953e-02,  -1.11481711e-01,\n",
      "          3.91556323e-02,   8.32696706e-02,  -1.11081794e-01,\n",
      "          1.19387962e-01,  -1.99131463e-02,  -1.37768630e-02,\n",
      "          1.05486095e-01,   4.97959927e-03,  -1.19889878e-01,\n",
      "         -7.41816610e-02,   1.35695755e-01,   8.91348124e-02,\n",
      "          4.75012623e-02,  -1.28089432e-02,   1.46007510e-02,\n",
      "         -5.12201674e-02,  -5.04991151e-02,  -2.10623741e-02,\n",
      "          4.42349389e-02,   1.46619882e-02,   1.47281140e-01,\n",
      "          1.09030068e-01,   1.43905208e-01,   7.57329687e-02,\n",
      "         -6.84131309e-02,  -4.32802998e-02,  -6.30949959e-02,\n",
      "         -4.51398268e-03,  -5.27539402e-02,  -5.74022606e-02,\n",
      "          3.80011536e-02,  -8.78762901e-02,   3.30149569e-02,\n",
      "          3.73236388e-02,   1.06022984e-01,   1.79206684e-01,\n",
      "          5.18211126e-02,  -2.22157221e-02,  -3.33736502e-02,\n",
      "         -7.72043541e-02,   1.30371675e-01,   1.03085218e-02,\n",
      "          3.17275412e-02,   5.76212443e-03]], dtype=float32)),)\n",
      "Test Output:\n"
     ]
    },
    {
     "data": {
      "image/png": "[encoded data removed]",
      "text/plain": [
       "<matplotlib.figure.Figure at 0x7fe3ccf93dd8>"
      ]
     },
     "metadata": {},
     "output_type": "display_data"
    },
    {
     "name": "stdout",
     "output_type": "stream",
     "text": [
      "              t         x      time\n",
      "count  6.000000  6.000000  6.000000\n",
      "mean   0.077934 -1.721111  0.064099\n",
      "std    0.539450  1.152220  0.367745\n",
      "min   -0.595252 -3.285802 -0.576285\n",
      "25%   -0.215010 -2.545412  0.012419\n",
      "50%    0.009483 -1.550335  0.053104\n",
      "75%    0.287829 -0.714479  0.304435\n",
      "max    0.953117 -0.627232  0.467602\n",
      "Window: 1000 to 1100\n"
     ]
    },
    {
     "data": {
      "image/png": "[encoded data removed]",
      "text/plain": [
       "<matplotlib.figure.Figure at 0x7fe3ccfb1748>"
      ]
     },
     "metadata": {},
     "output_type": "display_data"
    },
    {
     "name": "stdout",
     "output_type": "stream",
     "text": [
      "Window: 2000 to 2100\n"
     ]
    },
    {
     "data": {
      "image/png": "[encoded data removed]",
      "text/plain": [
       "<matplotlib.figure.Figure at 0x7fe3ccd33390>"
      ]
     },
     "metadata": {},
     "output_type": "display_data"
    },
    {
     "name": "stdout",
     "output_type": "stream",
     "text": [
      "Window: 3000 to 3100\n"
     ]
    },
    {
     "data": {
      "image/png": "[encoded data removed]",
      "text/plain": [
       "<matplotlib.figure.Figure at 0x7fe3cccdf160>"
      ]
     },
     "metadata": {},
     "output_type": "display_data"
    },
    {
     "name": "stdout",
     "output_type": "stream",
     "text": [
      "Window: 4000 to 4100\n"
     ]
    },
    {
     "data": {
      "image/png": "[encoded data removed]",
      "text/plain": [
       "<matplotlib.figure.Figure at 0x7fe3ccf1bf60>"
      ]
     },
     "metadata": {},
     "output_type": "display_data"
    },
    {
     "name": "stdout",
     "output_type": "stream",
     "text": [
      "Window: 5000 to 5100\n"
     ]
    },
    {
     "data": {
      "image/png": "[encoded data removed]",
      "text/plain": [
       "<matplotlib.figure.Figure at 0x7fe3cce37c88>"
      ]
     },
     "metadata": {},
     "output_type": "display_data"
    },
    {
     "name": "stdout",
     "output_type": "stream",
     "text": [
      "Window: 6000 to 6100\n"
     ]
    },
    {
     "data": {
      "image/png": "[encoded data removed]",
      "text/plain": [
       "<matplotlib.figure.Figure at 0x7fe3cce21d30>"
      ]
     },
     "metadata": {},
     "output_type": "display_data"
    }
   ],
   "source": [
    "first_touch = np.array([(0.01 + (np.random.rand()-0.5)*0.005), (np.random.rand()-0.5)*20])\n",
    "print(\"Test Input:\",first_touch)\n",
    "with tf.Session() as sess:\n",
    "    perf = net.generate_performance(first_touch,5,sess,True)\n",
    "print(\"Test Output:\")\n",
    "perf_df = pd.DataFrame({'t':perf.T[0], 'x':perf.T[1]})\n",
    "perf_df['time'] = perf_df.t.cumsum()\n",
    "#plt.show(perf_df.plot('time','x',kind='scatter'))\n",
    "plt.plot(perf_df.time, perf_df.x, '.r-')\n",
    "plt.show()\n",
    "print(perf_df.describe())\n",
    "## Investigate Output\n",
    "window = 100\n",
    "for n in [1000,2000,3000,4000,5000,6000]:\n",
    "    print(\"Window:\", str(n),'to',str(n+window))\n",
    "    plt.plot(perf_df[n:n+window].time, perf_df[n:n+window].x, '.r-')\n",
    "    plt.show()"
   ]
  },
  {
   "cell_type": "code",
   "execution_count": 24,
   "metadata": {
    "collapsed": false
   },
   "outputs": [
    {
     "name": "stdout",
     "output_type": "stream",
     "text": [
      "[array([[ 0.07646494, -0.09791274,  0.11379239,  0.04339258,  0.07476084,\n",
      "        -0.09930243,  0.076075  , -0.09341063,  0.06690206, -0.1137906 ,\n",
      "        -0.06179912, -0.02963928,  0.04300272, -0.05904832,  0.06706566,\n",
      "         0.10903636, -0.00919243, -0.09551886, -0.10187416,  0.10499252,\n",
      "        -0.08563261, -0.01482554,  0.00522251, -0.12051389, -0.03193808,\n",
      "        -0.0340669 , -0.02211133,  0.055173  ,  0.0332939 ,  0.0756783 ,\n",
      "        -0.0672911 , -0.03974848, -0.09728199, -0.0615373 ,  0.03883335,\n",
      "        -0.06800436,  0.04588168,  0.07618929, -0.05230745, -0.07144108,\n",
      "        -0.12923872, -0.0239985 ,  0.01378198, -0.09308418,  0.06856744,\n",
      "         0.08651469, -0.01509997,  0.01417179,  0.13500229,  0.01666916,\n",
      "        -0.02418959,  0.03208335, -0.00958734, -0.07298439, -0.12884754,\n",
      "        -0.01117966,  0.05149626, -0.0697993 ,  0.10769435,  0.06675819,\n",
      "        -0.11677279,  0.063853  ,  0.03838479,  0.11702957, -0.01482594,\n",
      "         0.07213395,  0.07494772, -0.03092411,  0.01184729,  0.08983929,\n",
      "        -0.1245518 , -0.06169251,  0.02492809,  0.09612462, -0.01922932,\n",
      "         0.08947679, -0.05572665,  0.05959596,  0.07935826, -0.03078186,\n",
      "         0.00967553, -0.00729568, -0.0164117 , -0.10336336,  0.06047153,\n",
      "         0.07533941, -0.10707077,  0.09816092, -0.03336952, -0.03269306,\n",
      "         0.10095033,  0.01999781, -0.10053197, -0.07534932,  0.11636921,\n",
      "         0.09788571,  0.07055688, -0.02467994,  0.02068747, -0.05705196,\n",
      "        -0.03590166, -0.03837457,  0.06944849,  0.02353238,  0.1221929 ,\n",
      "         0.07429648,  0.07983155,  0.07440649, -0.02871857, -0.03900439,\n",
      "        -0.0584957 , -0.01940992, -0.05219339, -0.0954143 ,  0.04109382,\n",
      "        -0.10874259, -0.01350615,  0.06423783,  0.06817415,  0.12512136,\n",
      "         0.09847388, -0.03427536, -0.00700299, -0.07206211,  0.09075248,\n",
      "         0.02761436,  0.02239092, -0.03098999]], dtype=float32), array([[ 0.06907041, -0.11213285,  0.1076038 ,  0.03686467,  0.06367052,\n",
      "        -0.11363083,  0.07503534, -0.06511335,  0.05988212, -0.10859787,\n",
      "        -0.06342235, -0.02623439,  0.04819489, -0.05128207,  0.0433046 ,\n",
      "         0.11800633,  0.00450615, -0.0859467 , -0.08591944,  0.10543591,\n",
      "        -0.08427805, -0.04091217,  0.00969462, -0.10804191, -0.03768564,\n",
      "        -0.02660121, -0.02153308,  0.06005122,  0.02776796,  0.0826223 ,\n",
      "        -0.05802179, -0.03819417, -0.10036651, -0.05851195,  0.03518368,\n",
      "        -0.07279134,  0.05913843,  0.07296506, -0.05036357, -0.07681378,\n",
      "        -0.13255933, -0.01047225, -0.00342219, -0.06919144,  0.07570409,\n",
      "         0.1079205 , -0.03759782, -0.00254192,  0.15021211,  0.01896295,\n",
      "        -0.01889715,  0.03480745, -0.02226909, -0.06166315, -0.15491351,\n",
      "        -0.01578126,  0.05457453, -0.07568166,  0.12746644,  0.08446839,\n",
      "        -0.13780509,  0.05691405,  0.01458734,  0.10952611, -0.00997114,\n",
      "         0.07902075,  0.09417993, -0.04138288,  0.01398318,  0.09842718,\n",
      "        -0.13781343, -0.0393328 , -0.00483568,  0.10462596, -0.0251704 ,\n",
      "         0.0682844 , -0.04889337,  0.05371128,  0.07158625, -0.03634076,\n",
      "         0.00961472, -0.01773677, -0.01278033, -0.09485448,  0.04568319,\n",
      "         0.07967112, -0.09910977,  0.10128824, -0.02052022, -0.01977148,\n",
      "         0.10442463,  0.00975893, -0.10928524, -0.06870829,  0.11750551,\n",
      "         0.09206172,  0.06289466, -0.01723357,  0.01139887, -0.05310539,\n",
      "        -0.03931859, -0.02490163,  0.04813524,  0.02320417,  0.12944424,\n",
      "         0.09563214,  0.10962159,  0.07000969, -0.05702651, -0.04049546,\n",
      "        -0.05671284, -0.01124657, -0.04592871, -0.06112216,  0.03619606,\n",
      "        -0.09034982,  0.01384216,  0.04338425,  0.09088287,  0.14308871,\n",
      "         0.07384042, -0.02241647, -0.02689952, -0.07217899,  0.09682235,\n",
      "         0.01846037,  0.03080253, -0.01067213]], dtype=float32), array([[ 0.05264529, -0.12067302,  0.11171047,  0.01918242,  0.06392018,\n",
      "        -0.14717571,  0.05391846, -0.05418871,  0.0370907 , -0.11169254,\n",
      "        -0.06172155, -0.00836585,  0.04516436, -0.03433783,  0.01338029,\n",
      "         0.12399152,  0.04107998, -0.08361909, -0.07575613,  0.09965298,\n",
      "        -0.09815301, -0.04614209,  0.01757368, -0.11876221, -0.06526153,\n",
      "        -0.0476573 , -0.01168933,  0.0457199 ,  0.00534865,  0.05366827,\n",
      "        -0.06552522, -0.02075652, -0.10553481, -0.0509655 ,  0.02731604,\n",
      "        -0.07206814,  0.08867915,  0.07764642, -0.04297786, -0.09677767,\n",
      "        -0.14201388, -0.00838018,  0.00384318, -0.06563552,  0.07785548,\n",
      "         0.14113018, -0.03433821,  0.00523441,  0.18052588, -0.00021928,\n",
      "        -0.02205716,  0.04313904, -0.04969238, -0.06988999, -0.16215974,\n",
      "        -0.01522832,  0.06885377, -0.08178968,  0.14581291,  0.09937498,\n",
      "        -0.14840592,  0.02590693, -0.01123564,  0.08060917,  0.00182613,\n",
      "         0.07711241,  0.09556907, -0.06453703,  0.01940879,  0.08210118,\n",
      "        -0.13605613, -0.02773415, -0.03804656,  0.12555996, -0.03829554,\n",
      "         0.06204191, -0.04043325,  0.02821273,  0.08097574, -0.02965247,\n",
      "         0.00989297, -0.0050067 , -0.01165541, -0.08059946,  0.02390873,\n",
      "         0.0802456 , -0.11257181,  0.12599324, -0.02859471, -0.02708464,\n",
      "         0.09834688,  0.00843886, -0.10888364, -0.03903761,  0.13316405,\n",
      "         0.08617038,  0.06770029, -0.0214646 , -0.00351501, -0.05578697,\n",
      "        -0.02640183, -0.00298443,  0.04375854,  0.03319202,  0.12110411,\n",
      "         0.08282819,  0.15162915,  0.03971617, -0.06006392, -0.04322765,\n",
      "        -0.04054395, -0.01095691, -0.06200851, -0.0350122 ,  0.06259127,\n",
      "        -0.09977359,  0.02892938,  0.03333766,  0.06988849,  0.16384751,\n",
      "         0.06929461,  0.0035066 , -0.02190932, -0.05175074,  0.11108997,\n",
      "        -0.00839995,  0.05744098,  0.00271817]], dtype=float32), array([[  1.16989374e-01,  -2.10869193e-01,   1.93622157e-01,\n",
      "          7.84092247e-02,   1.07438609e-01,  -2.05705285e-01,\n",
      "          1.50360316e-01,  -1.16366118e-01,   1.25461370e-01,\n",
      "         -2.12422192e-01,  -1.30672768e-01,  -6.95275888e-02,\n",
      "          9.23557580e-02,  -1.08837068e-01,   7.66205937e-02,\n",
      "          2.52440691e-01,   2.77122296e-03,  -1.61689728e-01,\n",
      "         -1.56060740e-01,   2.28283808e-01,  -1.46012634e-01,\n",
      "         -7.95997083e-02,   2.69714594e-02,  -1.83973655e-01,\n",
      "         -5.98012321e-02,  -2.60405578e-02,  -3.79532874e-02,\n",
      "          1.33606210e-01,   6.09275214e-02,   1.82464525e-01,\n",
      "         -9.69219208e-02,  -8.14464539e-02,  -1.88294291e-01,\n",
      "         -1.22458987e-01,   7.32544065e-02,  -1.52953461e-01,\n",
      "          1.11665599e-01,   1.43938869e-01,  -9.75831747e-02,\n",
      "         -1.43774807e-01,  -2.54838407e-01,   6.86044805e-05,\n",
      "         -1.07794376e-02,  -1.26911879e-01,   1.66435316e-01,\n",
      "          1.95840150e-01,  -8.81492198e-02,  -2.57171709e-02,\n",
      "          2.93889642e-01,   5.91068827e-02,  -2.52467413e-02,\n",
      "          6.68269992e-02,  -2.14946177e-02,  -1.00947261e-01,\n",
      "         -2.91387916e-01,  -2.77090296e-02,   1.00993633e-01,\n",
      "         -1.56549394e-01,   2.51445949e-01,   1.74043685e-01,\n",
      "         -2.83505917e-01,   1.23110123e-01,   2.13773139e-02,\n",
      "          2.25625098e-01,  -1.50810517e-02,   1.62282437e-01,\n",
      "          1.86991096e-01,  -6.60991892e-02,   3.22863236e-02,\n",
      "          2.07376540e-01,  -2.93827295e-01,  -6.41644672e-02,\n",
      "          9.50966589e-03,   2.04351649e-01,  -3.13762352e-02,\n",
      "          1.17696233e-01,  -8.47015530e-02,   1.05856717e-01,\n",
      "          1.23366043e-01,  -7.59120286e-02,   2.61445865e-02,\n",
      "         -4.33779322e-02,  -2.49020532e-02,  -1.92250699e-01,\n",
      "          8.91978070e-02,   1.69972494e-01,  -1.71965092e-01,\n",
      "          1.85918346e-01,  -2.85770018e-02,  -2.05358099e-02,\n",
      "          2.05867320e-01,   1.26948589e-02,  -2.12363839e-01,\n",
      "         -1.66374281e-01,   2.27730602e-01,   1.75107434e-01,\n",
      "          9.48885232e-02,  -2.06687152e-02,   3.33757773e-02,\n",
      "         -9.49171409e-02,  -1.10529505e-01,  -5.26915938e-02,\n",
      "          8.19800124e-02,   2.14421880e-02,   2.71220505e-01,\n",
      "          2.04270080e-01,   1.87512577e-01,   1.43653795e-01,\n",
      "         -1.21459901e-01,  -7.80838877e-02,  -1.27106369e-01,\n",
      "         -7.15536857e-03,  -8.19545016e-02,  -1.12784982e-01,\n",
      "          5.50929084e-02,  -1.46005914e-01,   4.19546887e-02,\n",
      "          6.97805434e-02,   1.95882380e-01,   2.83046365e-01,\n",
      "          1.13200128e-01,  -5.03510758e-02,  -5.63904867e-02,\n",
      "         -1.48922473e-01,   1.84194833e-01,   3.94781269e-02,\n",
      "          3.02309580e-02,  -7.45668914e-03]], dtype=float32), array([[  1.26233742e-01,  -2.55178332e-01,   2.34492064e-01,\n",
      "          7.14165643e-02,   1.26875818e-01,  -2.70282626e-01,\n",
      "          1.55706584e-01,  -1.17722213e-01,   1.22801408e-01,\n",
      "         -2.54090041e-01,  -1.61837608e-01,  -6.45349473e-02,\n",
      "          1.09480396e-01,  -1.10257812e-01,   6.02527298e-02,\n",
      "          3.10468614e-01,   4.28252518e-02,  -1.87702149e-01,\n",
      "         -1.79641604e-01,   2.62570679e-01,  -1.84451371e-01,\n",
      "         -9.87206250e-02,   4.13797945e-02,  -2.17915609e-01,\n",
      "         -9.45226550e-02,  -5.08917272e-02,  -3.71904708e-02,\n",
      "          1.55060634e-01,   5.08830920e-02,   1.93259597e-01,\n",
      "         -1.18922114e-01,  -7.37261027e-02,  -2.26784185e-01,\n",
      "         -1.35538295e-01,   8.40225592e-02,  -1.83592364e-01,\n",
      "          1.63155049e-01,   1.82981893e-01,  -1.13570526e-01,\n",
      "         -1.86474442e-01,  -2.94522941e-01,   2.18162965e-03,\n",
      "         -1.33792292e-02,  -1.47205234e-01,   2.02978909e-01,\n",
      "          2.59129256e-01,  -1.03366412e-01,  -2.15494502e-02,\n",
      "          3.80761027e-01,   4.33397107e-02,  -3.72240543e-02,\n",
      "          8.53328705e-02,  -5.03045097e-02,  -1.29508734e-01,\n",
      "         -3.56102049e-01,  -2.95782238e-02,   1.33831710e-01,\n",
      "         -1.93193287e-01,   3.15867126e-01,   2.26063415e-01,\n",
      "         -3.56426954e-01,   1.24126218e-01,   3.00656073e-04,\n",
      "          2.46544749e-01,  -4.92578512e-03,   1.90142766e-01,\n",
      "          2.36311466e-01,  -9.54066515e-02,   4.40979749e-02,\n",
      "          2.35940874e-01,  -3.48621309e-01,  -6.15369119e-02,\n",
      "          3.33299208e-03,   2.61997014e-01,  -4.71561700e-02,\n",
      "          1.29259914e-01,  -9.36567932e-02,   1.15452379e-01,\n",
      "          1.47564799e-01,  -8.59773234e-02,   1.95400417e-02,\n",
      "         -4.48784791e-02,  -2.99988985e-02,  -2.10937977e-01,\n",
      "          7.75802433e-02,   1.94529682e-01,  -2.14634299e-01,\n",
      "          2.40124941e-01,  -3.96456458e-02,  -2.74876617e-02,\n",
      "          2.44875014e-01,   1.01623340e-02,  -2.49100596e-01,\n",
      "         -1.63685739e-01,   2.83147514e-01,   2.04919487e-01,\n",
      "          1.06308401e-01,  -2.55599953e-02,   2.59950757e-02,\n",
      "         -1.15213990e-01,  -1.12578183e-01,  -4.53940593e-02,\n",
      "          9.04496014e-02,   2.78996900e-02,   3.15787226e-01,\n",
      "          2.29777664e-01,   2.64226317e-01,   1.51069731e-01,\n",
      "         -1.56641930e-01,  -9.36091989e-02,  -1.43687442e-01,\n",
      "         -1.03912745e-02,  -1.14901125e-01,  -1.08170196e-01,\n",
      "          8.34151357e-02,  -1.77173272e-01,   6.98376894e-02,\n",
      "          7.56214708e-02,   2.26803482e-01,   3.48607659e-01,\n",
      "          1.20351844e-01,  -3.91295403e-02,  -6.24564737e-02,\n",
      "         -1.54032037e-01,   2.37968087e-01,   2.22360957e-02,\n",
      "          6.62596822e-02,   1.20263267e-02]], dtype=float32)]\n"
     ]
    }
   ],
   "source": [
    "print(net.state_history_c)"
   ]
  },
  {
   "cell_type": "code",
   "execution_count": 7,
   "metadata": {
    "collapsed": false
   },
   "outputs": [
    {
     "ename": "TypeError",
     "evalue": "Invalid dimensions for image data",
     "traceback": [
      "\u001b[0;31m---------------------------------------------------------------------------\u001b[0m",
      "\u001b[0;31mTypeError\u001b[0m                                 Traceback (most recent call last)",
      "\u001b[0;32m<ipython-input-7-26e84b06241a>\u001b[0m in \u001b[0;36m<module>\u001b[0;34m()\u001b[0m\n\u001b[0;32m----> 1\u001b[0;31m \u001b[0mplt\u001b[0m\u001b[0;34m.\u001b[0m\u001b[0mimshow\u001b[0m\u001b[0;34m(\u001b[0m\u001b[0mnet\u001b[0m\u001b[0;34m.\u001b[0m\u001b[0mstate_history_c\u001b[0m\u001b[0;34m[\u001b[0m\u001b[0;34m:\u001b[0m\u001b[0;36m0\u001b[0m\u001b[0;34m]\u001b[0m\u001b[0;34m)\u001b[0m\u001b[0;34m\u001b[0m\u001b[0m\n\u001b[0m",
      "\u001b[0;32m/usr/local/lib/python3.5/dist-packages/matplotlib/pyplot.py\u001b[0m in \u001b[0;36mimshow\u001b[0;34m(X, cmap, norm, aspect, interpolation, alpha, vmin, vmax, origin, extent, shape, filternorm, filterrad, imlim, resample, url, hold, data, **kwargs)\u001b[0m\n\u001b[1;32m   3027\u001b[0m                         \u001b[0mfilternorm\u001b[0m\u001b[0;34m=\u001b[0m\u001b[0mfilternorm\u001b[0m\u001b[0;34m,\u001b[0m \u001b[0mfilterrad\u001b[0m\u001b[0;34m=\u001b[0m\u001b[0mfilterrad\u001b[0m\u001b[0;34m,\u001b[0m\u001b[0;34m\u001b[0m\u001b[0m\n\u001b[1;32m   3028\u001b[0m                         \u001b[0mimlim\u001b[0m\u001b[0;34m=\u001b[0m\u001b[0mimlim\u001b[0m\u001b[0;34m,\u001b[0m \u001b[0mresample\u001b[0m\u001b[0;34m=\u001b[0m\u001b[0mresample\u001b[0m\u001b[0;34m,\u001b[0m \u001b[0murl\u001b[0m\u001b[0;34m=\u001b[0m\u001b[0murl\u001b[0m\u001b[0;34m,\u001b[0m \u001b[0mdata\u001b[0m\u001b[0;34m=\u001b[0m\u001b[0mdata\u001b[0m\u001b[0;34m,\u001b[0m\u001b[0;34m\u001b[0m\u001b[0m\n\u001b[0;32m-> 3029\u001b[0;31m                         **kwargs)\n\u001b[0m\u001b[1;32m   3030\u001b[0m     \u001b[0;32mfinally\u001b[0m\u001b[0;34m:\u001b[0m\u001b[0;34m\u001b[0m\u001b[0m\n\u001b[1;32m   3031\u001b[0m         \u001b[0max\u001b[0m\u001b[0;34m.\u001b[0m\u001b[0mhold\u001b[0m\u001b[0;34m(\u001b[0m\u001b[0mwashold\u001b[0m\u001b[0;34m)\u001b[0m\u001b[0;34m\u001b[0m\u001b[0m\n",
      "\u001b[0;32m/usr/local/lib/python3.5/dist-packages/matplotlib/__init__.py\u001b[0m in \u001b[0;36minner\u001b[0;34m(ax, *args, **kwargs)\u001b[0m\n\u001b[1;32m   1817\u001b[0m                     warnings.warn(msg % (label_namer, func.__name__),\n\u001b[1;32m   1818\u001b[0m                                   RuntimeWarning, stacklevel=2)\n\u001b[0;32m-> 1819\u001b[0;31m             \u001b[0;32mreturn\u001b[0m \u001b[0mfunc\u001b[0m\u001b[0;34m(\u001b[0m\u001b[0max\u001b[0m\u001b[0;34m,\u001b[0m \u001b[0;34m*\u001b[0m\u001b[0margs\u001b[0m\u001b[0;34m,\u001b[0m \u001b[0;34m**\u001b[0m\u001b[0mkwargs\u001b[0m\u001b[0;34m)\u001b[0m\u001b[0;34m\u001b[0m\u001b[0m\n\u001b[0m\u001b[1;32m   1820\u001b[0m         \u001b[0mpre_doc\u001b[0m \u001b[0;34m=\u001b[0m \u001b[0minner\u001b[0m\u001b[0;34m.\u001b[0m\u001b[0m__doc__\u001b[0m\u001b[0;34m\u001b[0m\u001b[0m\n\u001b[1;32m   1821\u001b[0m         \u001b[0;32mif\u001b[0m \u001b[0mpre_doc\u001b[0m \u001b[0;32mis\u001b[0m \u001b[0;32mNone\u001b[0m\u001b[0;34m:\u001b[0m\u001b[0;34m\u001b[0m\u001b[0m\n",
      "\u001b[0;32m/usr/local/lib/python3.5/dist-packages/matplotlib/axes/_axes.py\u001b[0m in \u001b[0;36mimshow\u001b[0;34m(self, X, cmap, norm, aspect, interpolation, alpha, vmin, vmax, origin, extent, shape, filternorm, filterrad, imlim, resample, url, **kwargs)\u001b[0m\n\u001b[1;32m   4920\u001b[0m                               resample=resample, **kwargs)\n\u001b[1;32m   4921\u001b[0m \u001b[0;34m\u001b[0m\u001b[0m\n\u001b[0;32m-> 4922\u001b[0;31m         \u001b[0mim\u001b[0m\u001b[0;34m.\u001b[0m\u001b[0mset_data\u001b[0m\u001b[0;34m(\u001b[0m\u001b[0mX\u001b[0m\u001b[0;34m)\u001b[0m\u001b[0;34m\u001b[0m\u001b[0m\n\u001b[0m\u001b[1;32m   4923\u001b[0m         \u001b[0mim\u001b[0m\u001b[0;34m.\u001b[0m\u001b[0mset_alpha\u001b[0m\u001b[0;34m(\u001b[0m\u001b[0malpha\u001b[0m\u001b[0;34m)\u001b[0m\u001b[0;34m\u001b[0m\u001b[0m\n\u001b[1;32m   4924\u001b[0m         \u001b[0;32mif\u001b[0m \u001b[0mim\u001b[0m\u001b[0;34m.\u001b[0m\u001b[0mget_clip_path\u001b[0m\u001b[0;34m(\u001b[0m\u001b[0;34m)\u001b[0m \u001b[0;32mis\u001b[0m \u001b[0;32mNone\u001b[0m\u001b[0;34m:\u001b[0m\u001b[0;34m\u001b[0m\u001b[0m\n",
      "\u001b[0;32m/usr/local/lib/python3.5/dist-packages/matplotlib/image.py\u001b[0m in \u001b[0;36mset_data\u001b[0;34m(self, A)\u001b[0m\n\u001b[1;32m    451\u001b[0m         if (self._A.ndim not in (2, 3) or\n\u001b[1;32m    452\u001b[0m                 (self._A.ndim == 3 and self._A.shape[-1] not in (3, 4))):\n\u001b[0;32m--> 453\u001b[0;31m             \u001b[0;32mraise\u001b[0m \u001b[0mTypeError\u001b[0m\u001b[0;34m(\u001b[0m\u001b[0;34m\"Invalid dimensions for image data\"\u001b[0m\u001b[0;34m)\u001b[0m\u001b[0;34m\u001b[0m\u001b[0m\n\u001b[0m\u001b[1;32m    454\u001b[0m \u001b[0;34m\u001b[0m\u001b[0m\n\u001b[1;32m    455\u001b[0m         \u001b[0mself\u001b[0m\u001b[0;34m.\u001b[0m\u001b[0m_imcache\u001b[0m \u001b[0;34m=\u001b[0m \u001b[0;32mNone\u001b[0m\u001b[0;34m\u001b[0m\u001b[0m\n",
      "\u001b[0;31mTypeError\u001b[0m: Invalid dimensions for image data"
     ],
     "output_type": "error"
    }
   ],
   "source": [
    "plt.imshow(net.state_history_c[:0])"
   ]
  },
  {
   "cell_type": "code",
   "execution_count": null,
   "metadata": {
    "collapsed": true
   },
   "outputs": [],
   "source": [
    ""
   ]
  },
  {
   "cell_type": "code",
   "execution_count": null,
   "metadata": {
    "collapsed": true
   },
   "outputs": [],
   "source": [
    ""
   ]
  }
 ],
 "metadata": {
  "kernelspec": {
   "display_name": "Python 3",
   "language": "python",
   "name": "python3"
  },
  "language_info": {
   "codemirror_mode": {
    "name": "ipython",
    "version": 3.0
   },
   "file_extension": ".py",
   "mimetype": "text/x-python",
   "name": "python",
   "nbconvert_exporter": "python",
   "pygments_lexer": "ipython3",
   "version": "3.5.2"
  }
 },
 "nbformat": 4,
 "nbformat_minor": 0
}