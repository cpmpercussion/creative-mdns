{
 "cells": [
  {
   "cell_type": "markdown",
   "metadata": {},
   "source": [
    "# Testing Mixture Distribution Networks"
   ]
  },
  {
   "cell_type": "code",
   "execution_count": null,
   "metadata": {},
   "outputs": [],
   "source": [
    "import matplotlib.pyplot as plt\n",
    "import numpy as np\n",
    "import edward as ed\n",
    "import tensorflow as tf\n",
    "from edward.models import Categorical, Mixture, Normal\n",
    "import math"
   ]
  },
  {
   "cell_type": "code",
   "execution_count": null,
   "metadata": {},
   "outputs": [],
   "source": [
    "## Generating some data:\n",
    "\n",
    "NSAMPLE = 5000\n",
    "\n",
    "y_data = np.float32(np.random.uniform(-10.5, 10.5, NSAMPLE))\n",
    "r_data = np.random.normal(size=NSAMPLE)\n",
    "x_data = np.sin(0.75 * y_data) * 7.0 + y_data * 0.5 + r_data * 1.0\n",
    "x_data = x_data.reshape((NSAMPLE, 1))\n",
    "\n",
    "plt.figure(figsize=(8, 8))\n",
    "plt.plot(x_data,y_data,'ro', alpha=0.3)\n",
    "plt.show()"
   ]
  },
  {
   "cell_type": "code",
   "execution_count": null,
   "metadata": {},
   "outputs": [],
   "source": [
    "## MDN\n",
    "NHIDDEN = 24\n",
    "STDEV = 0.5\n",
    "KMIX = 24 # number of mixtures\n",
    "NOUT = KMIX * 3 # pi, mu, stdev\n",
    "\n",
    "x = tf.placeholder(dtype=tf.float32, shape=[None,1], name=\"x\")\n",
    "y = tf.placeholder(dtype=tf.float32, shape=[None], name=\"y\")\n",
    "\n",
    "def fully_connected_network(X):\n",
    "    Wh = tf.Variable(tf.random_normal([1,NHIDDEN], stddev=STDEV, dtype=tf.float32))\n",
    "    bh = tf.Variable(tf.random_normal([1,NHIDDEN], stddev=STDEV, dtype=tf.float32))\n",
    "    \n",
    "    Wo = tf.Variable(tf.random_normal([NHIDDEN,NOUT], stddev=STDEV, dtype=tf.float32))\n",
    "    bo = tf.Variable(tf.random_normal([1,NOUT], stddev=STDEV, dtype=tf.float32))\n",
    "    \n",
    "    hidden_layer = tf.nn.tanh(tf.matmul(x, Wh) + bh)\n",
    "    output = tf.matmul(hidden_layer,Wo) + bo\n",
    "    return output\n",
    "\n",
    "def split_tensor_to_mixture_parameters(output):\n",
    "  logits = tf.placeholder(dtype=tf.float32, shape=[None,KMIX], name=\"mixparam\")\n",
    "  scales = tf.placeholder(dtype=tf.float32, shape=[None,KMIX], name=\"mixparam\")\n",
    "  locs = tf.placeholder(dtype=tf.float32, shape=[None,KMIX], name=\"mixparam\")\n",
    "  # Split up the output nodes into three groups for Pis, Sigmas and Mus.\n",
    "  logits, scales, locs = tf.split(value=output, num_or_size_splits=3,axis=1)\n",
    "  # Transform the sigmas to e^sigma\n",
    "  scales = tf.exp(scales)\n",
    "  return logits, scales, locs\n",
    "\n",
    "output = fully_connected_network(x)\n",
    "logits, scales, locs = split_tensor_to_mixture_parameters(output)\n",
    "\n",
    "cat = Categorical(logits=logits)\n",
    "coll = [Normal(loc=loc, scale=scale) for loc, scale\n",
    "              in zip(tf.unstack(tf.transpose(locs)),\n",
    "                     tf.unstack(tf.transpose(scales)))]\n",
    "mixture = Mixture(cat=cat, components=coll, value=tf.zeros_like(y))\n",
    "\n",
    "inference = ed.MAP(data={mixture: y})\n",
    "inference.initialize(var_list=tf.trainable_variables())\n",
    "sample = mixture.sample()"
   ]
  },
  {
   "cell_type": "code",
   "execution_count": null,
   "metadata": {},
   "outputs": [],
   "source": [
    "inference.initialize(var_list=tf.trainable_variables())\n",
    "\n",
    "sess = ed.get_session()\n",
    "tf.global_variables_initializer().run()"
   ]
  },
  {
   "cell_type": "code",
   "execution_count": null,
   "metadata": {},
   "outputs": [],
   "source": [
    "n_epoch = 6000\n",
    "train_loss = np.zeros(n_epoch)\n",
    "for i in range(n_epoch):\n",
    "  info_dict = inference.update(feed_dict={x: x_data, y: y_data})\n",
    "  train_loss[i] = info_dict['loss']\n",
    "  inference.print_progress(info_dict)"
   ]
  },
  {
   "cell_type": "code",
   "execution_count": null,
   "metadata": {},
   "outputs": [],
   "source": [
    "plt.figure(figsize=(8, 8))\n",
    "plt.plot(np.arange(100, n_epoch,1), train_loss[100:]/NSAMPLE, 'r-')\n",
    "plt.savefig('mdn-training-loss-'+str(n_epoch)+'epochs.pdf', dpi=150, format=\"pdf\")\n",
    "plt.show()"
   ]
  },
  {
   "cell_type": "code",
   "execution_count": null,
   "metadata": {},
   "outputs": [],
   "source": [
    "## Tests on individual runs.\n",
    "\n",
    "sess.close()\n",
    "\n",
    "sess = tf.InteractiveSession()\n",
    "sess.run(tf.global_variables_initializer())\n",
    "\n",
    "#sess.run(train_op,feed_dict={x: x_data, y: y_data})\n",
    "#sample_output = sess.run(sample, feed_dict={x:x_data})\n",
    "#sess.run(loss, feed_dict={x: x_data, y: y_data})"
   ]
  },
  {
   "cell_type": "code",
   "execution_count": null,
   "metadata": {},
   "outputs": [],
   "source": [
    "## Sample on some test data:\n",
    "\n",
    "x_test = np.float32(np.arange(-15,15,0.1))\n",
    "NTEST = x_test.size\n",
    "x_test = x_test.reshape(NTEST,1) # needs to be a matrix, not a vector\n",
    "y_test = sess.run(sample, feed_dict={x:x_test})\n",
    "\n",
    "plt.figure(figsize=(8, 8))\n",
    "plt.plot(x_data,y_data,'ro', x_test,y_test,'bo',alpha=0.3)\n",
    "plt.savefig('mdn-output-'+str(n_epoch)+'epochs.pdf', dpi=150, format=\"pdf\")\n",
    "plt.show()"
   ]
  },
  {
   "cell_type": "code",
   "execution_count": null,
   "metadata": {},
   "outputs": [],
   "source": [
    "## Sample on some test data:\n",
    "\n",
    "x_test = np.float32(np.arange(-15,15,0.1))\n",
    "NTEST = x_test.size\n",
    "x_test = x_test.reshape(NTEST,1) # needs to be a matrix, not a vector\n",
    "\n",
    "#x_test.shape\n",
    "\n",
    "sess.run()\n",
    "\n",
    "#plt.figure(figsize=(8, 8))\n",
    "#plt.plot(x_data,y_data,'ro', x_test,y_test,'bo',alpha=0.3)\n",
    "#plt.show()\n",
    "\n",
    "# plt.figure(figsize=(8, 8))\n",
    "# plt.plot(x_test,out_mu_test,'go', x_test,y_test,'bo',alpha=0.3)\n",
    "# plt.show()"
   ]
  }
 ],
 "metadata": {
  "kernelspec": {
   "display_name": "Python 2",
   "language": "python",
   "name": "python2"
  },
  "language_info": {
   "codemirror_mode": {
    "name": "ipython",
    "version": 3
   },
   "file_extension": ".py",
   "mimetype": "text/x-python",
   "name": "python",
   "nbconvert_exporter": "python",
   "pygments_lexer": "ipython3",
   "version": "3.6.5"
  }
 },
 "nbformat": 4,
 "nbformat_minor": 2
}
