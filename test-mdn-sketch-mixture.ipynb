{
 "cells": [
  {
   "cell_type": "code",
   "execution_count": null,
   "metadata": {
    "collapsed": false
   },
   "outputs": [],
   "source": [
    "from __future__ import absolute_import\n",
    "from __future__ import division\n",
    "from __future__ import print_function\n",
    "import numpy as np\n",
    "import matplotlib.pyplot as plt\n",
    "import pandas as pd\n",
    "import tensorflow as tf\n",
    "import time\n",
    "import musical_mdn\n",
    "import mixture_rnn\n",
    "import sketch_mixture"
   ]
  },
  {
   "cell_type": "markdown",
   "metadata": {},
   "source": [
    "# Test Running Network"
   ]
  },
  {
   "cell_type": "code",
   "execution_count": null,
   "metadata": {
    "collapsed": false
   },
   "outputs": [],
   "source": [
    "# Instantiate Running Network\n",
    "net = mixture_rnn.MixtureRNN(mode = mixture_rnn.NET_MODE_RUN, n_hidden_units = 128, n_mixtures = 10, batch_size = 1, sequence_length = 1)"
   ]
  },
  {
   "cell_type": "code",
   "execution_count": null,
   "metadata": {
    "collapsed": false
   },
   "outputs": [],
   "source": [
    "first_touch = np.array([(0.01 + (np.random.rand()-0.5)*0.005), (np.random.rand()-0.5)*20])\n",
    "print(\"Test Input:\",first_touch)\n",
    "with tf.Session() as sess:\n",
    "    perf = net.generate_performance(first_touch,10000,sess)\n",
    "print(\"Test Output:\")\n",
    "perf_df = pd.DataFrame({'t':perf.T[0], 'x':perf.T[1]})\n",
    "perf_df['time'] = perf_df.t.cumsum()\n",
    "#plt.show(perf_df.plot('time','x',kind='scatter'))\n",
    "plt.plot(perf_df.time, perf_df.x, '.r-')\n",
    "plt.show()\n",
    "print(perf_df.describe())\n",
    "## Investigate Output\n",
    "window = 100\n",
    "for n in [1000,2000,3000,4000,5000,6000]:\n",
    "    print(\"Window:\", str(n),'to',str(n+window))\n",
    "    plt.plot(perf_df[n:n+window].time, perf_df[n:n+window].x, '.r-')\n",
    "    plt.show()\n",
    "\n",
    "# input_touch = first_touch.reshape([1,1,net.n_input_units]) ## Give input correct shape for one-at-a-time evaluation.\n",
    "# if net.state is not None:\n",
    "#     feed = {net.x: input_touch, net.init_state: net.state}\n",
    "# else:\n",
    "#     feed = {net.x: input_touch}\n",
    "# pis, locs_1, locs_2, scales_1, scales_2, corr, net.state = sess.run([net.pis, net.locs_1, net.locs_2, net.scales_1, net.scales_2,  net.corr, net.final_state], feed_dict=feed)\n",
    "# #x_1, x_2 = sketch_mixture.sample_mixture_model(pis, locs_1, locs_2, scales_1, scales_2, corr, temp=1.0, greedy=False)\n"
   ]
  },
  {
   "cell_type": "code",
   "execution_count": null,
   "metadata": {
    "collapsed": false
   },
   "outputs": [],
   "source": []
  },
  {
   "cell_type": "code",
   "execution_count": null,
   "metadata": {
    "collapsed": false
   },
   "outputs": [],
   "source": [
    "x_t_log = musical_mdn.generate_data()"
   ]
  },
  {
   "cell_type": "markdown",
   "metadata": {},
   "source": [
    "## Test Training"
   ]
  },
  {
   "cell_type": "code",
   "execution_count": null,
   "metadata": {
    "collapsed": false
   },
   "outputs": [],
   "source": [
    "net = mixture_rnn.MixtureRNN(mode = NET_MODE_TRAIN, n_hidden_units = 128, n_mixtures = 10, batch_size = 100, sequence_length = 120)\n",
    "x_t_log = musical_mdn.generate_data()\n",
    "loader = musical_mdn.SequenceDataLoader(num_steps = 121,batch_size = 100, corpus = x_t_log)\n",
    "losses = net.train(loader, 1, saving=True)\n",
    "## Plot the losses.\n",
    "plt.plot(losses)\n",
    "plt.show()"
   ]
  }
 ],
 "metadata": {
  "kernelspec": {
   "display_name": "Python 2",
   "language": "python",
   "name": "python2"
  },
  "language_info": {
   "codemirror_mode": {
    "name": "ipython",
    "version": 2
   },
   "file_extension": ".py",
   "mimetype": "text/x-python",
   "name": "python",
   "nbconvert_exporter": "python",
   "pygments_lexer": "ipython2",
   "version": "2.7.13"
  }
 },
 "nbformat": 4,
 "nbformat_minor": 2
}
