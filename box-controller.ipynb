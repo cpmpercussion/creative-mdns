{
 "cells": [
  {
   "cell_type": "markdown",
   "metadata": {},
   "source": [
    "# Controller for the Servo and Lever Box Proof-of-concept."
   ]
  },
  {
   "cell_type": "code",
   "execution_count": 5,
   "metadata": {
    "collapsed": false,
    "deletable": true,
    "editable": true
   },
   "outputs": [],
   "source": [
    "import serial\n",
    "import time\n",
    "import struct\n",
    "import socket\n",
    "from threading import Thread\n",
    "\n",
    "ADDRESS = \"localhost\"\n",
    "PORT = 5000\n",
    "INT_FLOAT_DGRAM_LEN = 4\n",
    "STRING_DGRAM_PAD = 4\n",
    "\n",
    "sock = socket.socket(socket.AF_INET, socket.SOCK_DGRAM)\n",
    "sock.setblocking(0)\n",
    "ser = serial.Serial('/dev/cu.usbmodem1461', 9600)\n",
    "\n",
    "def send_sound_command(osc_datagram):\n",
    "    \"\"\"Send OSC message via UDP.\"\"\"\n",
    "    sock.sendto(osc_datagram, (ADDRESS, PORT))\n",
    "\n",
    "def command_servo(input=128):\n",
    "    \"\"\"Send a command to the servo. Input is between 0, 255\"\"\"\n",
    "    ser.write(chr(input))\n",
    "    \n",
    "def read_lever():\n",
    "    \"\"\"Read a single byte from the lever and return as integer.\"\"\"\n",
    "    return ord(ser.read(1))\n",
    "\n",
    "def pad_dgram_four_bytes(dgram):\n",
    "    \"\"\"Pad a datagram up to a multiple of 4 bytes.\"\"\"\n",
    "    return (dgram + (b'\\x00' * (4-len(dgram)%4)))\n",
    "\n",
    "def touch_message_datagram(pos = 0.0):\n",
    "    \"\"\"Construct an osc message with address /touch and one float.\"\"\"\n",
    "    dgram = b''\n",
    "    dgram += pad_dgram_four_bytes(\"/touch\".encode('utf-8'))\n",
    "    dgram += pad_dgram_four_bytes(\",f\")\n",
    "    dgram += struct.pack('>f', pos)\n",
    "    return dgram\n",
    "\n",
    "def move_and_play_sound(loc):\n",
    "    \"\"\"Move the servo and play a sound in response to a byte input.\"\"\"\n",
    "    command_servo(loc)\n",
    "    send_sound_command(touch_message_datagram(loc / 255.0))\n",
    "    \n",
    "def clear_and_play_serial_input(movement = True):\n",
    "    \"\"\"Clears the serial buffer of input and plays it all.\"\"\"\n",
    "    while ser.in_waiting > 0:\n",
    "        loc = read_lever()\n",
    "        send_sound_command(touch_message_datagram(loc / 255.0))\n",
    "        if movement:\n",
    "            command_servo(loc)\n",
    "        \n",
    "import musical_mdn\n",
    "import numpy as np\n",
    "import pandas as pd\n",
    "import tensorflow as tf\n",
    "musical_mdn.MODEL_DIR = \"./\"\n",
    "net = musical_mdn.TinyJamNet2D(mode = musical_mdn.NET_MODE_RUN, n_hidden_units = 128, n_mixtures = 10, batch_size = 1, sequence_length = 1)"
   ]
  },
  {
   "cell_type": "markdown",
   "metadata": {
    "deletable": true,
    "editable": true
   },
   "source": [
    "# Perform from Model"
   ]
  },
  {
   "cell_type": "code",
   "execution_count": 8,
   "metadata": {
    "collapsed": false,
    "deletable": true,
    "editable": true
   },
   "outputs": [
    {
     "name": "stdout",
     "output_type": "stream",
     "text": [
      "INFO:tensorflow:Restoring parameters from ./tiny-perf-mdn-1layers-128units\n",
      "Performing a 30s performance\n",
      "('Done, time was', 30.573029660619795, 'with', 116, 'moves.')\n"
     ]
    }
   ],
   "source": [
    "listening_as_well = False\n",
    "first_touch = np.array([(0.01 + (np.random.rand()-0.5)*0.005), (np.random.rand()-0.5)*20])\n",
    "\n",
    "def threaded_function():\n",
    "    ## Reacts to serial with sound, not movement\n",
    "    while keep_reacting_to_lever:\n",
    "        while ser.in_waiting > 0:\n",
    "            loc = read_lever()\n",
    "            send_sound_command(touch_message_datagram(loc / 255.0))\n",
    "\n",
    "# Start a thread for listning\n",
    "if listening_as_well:\n",
    "    keep_reacting_to_lever = True\n",
    "    thread = Thread(target = threaded_function)\n",
    "    thread.start()\n",
    "            \n",
    "# Start TF Predictions\n",
    "with tf.Session() as sess:\n",
    "    # Get network ready to run\n",
    "    net.prepare_model_for_running(sess)\n",
    "    last_touch = first_touch\n",
    "    time_total = 0\n",
    "    count = 0\n",
    "    \n",
    "    print(\"Performing a 30s performance\")\n",
    "    while time_total < 30.0:\n",
    "        # generate some output and schedule sounds and movement.\n",
    "        last_touch = net.generate_touch(last_touch, sess)\n",
    "        output = last_touch.reshape((2,))\n",
    "        # convert to dt, byte format\n",
    "        dt = output[0]\n",
    "        pos = output[1]\n",
    "        pos = int((pos + 10) * 255 / 20.0)\n",
    "        pos = min(max(pos, 0), 255)\n",
    "        dt = max(dt, 0)\n",
    "        time.sleep(dt)\n",
    "        move_and_play_sound(pos)\n",
    "        time_total += dt\n",
    "        count += 1\n",
    "    print(\"Done, time was\", time_total, \"with\", count, \"moves.\")\n",
    "    keep_reacting_to_lever = False\n",
    "    \n",
    "if listening_as_well:\n",
    "    thread.join()\n",
    "    print \"thread finished...exiting\""
   ]
  },
  {
   "cell_type": "markdown",
   "metadata": {
    "deletable": true,
    "editable": true
   },
   "source": [
    "# React to Lever input"
   ]
  },
  {
   "cell_type": "code",
   "execution_count": 12,
   "metadata": {
    "collapsed": false,
    "deletable": true,
    "editable": true
   },
   "outputs": [
    {
     "ename": "KeyboardInterrupt",
     "evalue": "",
     "output_type": "error",
     "traceback": [
      "\u001b[0;31m---------------------------------------------------------------------------\u001b[0m",
      "\u001b[0;31mKeyboardInterrupt\u001b[0m                         Traceback (most recent call last)",
      "\u001b[0;32m<ipython-input-12-1fdeff8a388a>\u001b[0m in \u001b[0;36m<module>\u001b[0;34m()\u001b[0m\n\u001b[1;32m      1\u001b[0m \u001b[0;32mwhile\u001b[0m \u001b[0mTrue\u001b[0m\u001b[0;34m:\u001b[0m\u001b[0;34m\u001b[0m\u001b[0m\n\u001b[0;32m----> 2\u001b[0;31m     \u001b[0;32mwhile\u001b[0m \u001b[0mser\u001b[0m\u001b[0;34m.\u001b[0m\u001b[0min_waiting\u001b[0m \u001b[0;34m>\u001b[0m \u001b[0;36m0\u001b[0m\u001b[0;34m:\u001b[0m\u001b[0;34m\u001b[0m\u001b[0m\n\u001b[0m\u001b[1;32m      3\u001b[0m         \u001b[0mloc\u001b[0m \u001b[0;34m=\u001b[0m \u001b[0mread_lever\u001b[0m\u001b[0;34m(\u001b[0m\u001b[0;34m)\u001b[0m\u001b[0;34m\u001b[0m\u001b[0m\n\u001b[1;32m      4\u001b[0m         \u001b[0msend_sound_command\u001b[0m\u001b[0;34m(\u001b[0m\u001b[0mtouch_message_datagram\u001b[0m\u001b[0;34m(\u001b[0m\u001b[0mloc\u001b[0m \u001b[0;34m/\u001b[0m \u001b[0;36m255.0\u001b[0m\u001b[0;34m)\u001b[0m\u001b[0;34m)\u001b[0m\u001b[0;34m\u001b[0m\u001b[0m\n\u001b[1;32m      5\u001b[0m         \u001b[0mcommand_servo\u001b[0m\u001b[0;34m(\u001b[0m\u001b[0mloc\u001b[0m\u001b[0;34m)\u001b[0m\u001b[0;34m\u001b[0m\u001b[0m\n",
      "\u001b[0;32m/usr/local/lib/python2.7/site-packages/serial/serialposix.pyc\u001b[0m in \u001b[0;36min_waiting\u001b[0;34m(self)\u001b[0m\n\u001b[1;32m    465\u001b[0m         \u001b[0;34m\"\"\"Return the number of bytes currently in the input buffer.\"\"\"\u001b[0m\u001b[0;34m\u001b[0m\u001b[0m\n\u001b[1;32m    466\u001b[0m         \u001b[0;31m#~ s = fcntl.ioctl(self.fd, termios.FIONREAD, TIOCM_zero_str)\u001b[0m\u001b[0;34m\u001b[0m\u001b[0;34m\u001b[0m\u001b[0m\n\u001b[0;32m--> 467\u001b[0;31m         \u001b[0ms\u001b[0m \u001b[0;34m=\u001b[0m \u001b[0mfcntl\u001b[0m\u001b[0;34m.\u001b[0m\u001b[0mioctl\u001b[0m\u001b[0;34m(\u001b[0m\u001b[0mself\u001b[0m\u001b[0;34m.\u001b[0m\u001b[0mfd\u001b[0m\u001b[0;34m,\u001b[0m \u001b[0mTIOCINQ\u001b[0m\u001b[0;34m,\u001b[0m \u001b[0mTIOCM_zero_str\u001b[0m\u001b[0;34m)\u001b[0m\u001b[0;34m\u001b[0m\u001b[0m\n\u001b[0m\u001b[1;32m    468\u001b[0m         \u001b[0;32mreturn\u001b[0m \u001b[0mstruct\u001b[0m\u001b[0;34m.\u001b[0m\u001b[0munpack\u001b[0m\u001b[0;34m(\u001b[0m\u001b[0;34m'I'\u001b[0m\u001b[0;34m,\u001b[0m \u001b[0ms\u001b[0m\u001b[0;34m)\u001b[0m\u001b[0;34m[\u001b[0m\u001b[0;36m0\u001b[0m\u001b[0;34m]\u001b[0m\u001b[0;34m\u001b[0m\u001b[0m\n\u001b[1;32m    469\u001b[0m \u001b[0;34m\u001b[0m\u001b[0m\n",
      "\u001b[0;31mKeyboardInterrupt\u001b[0m: "
     ]
    }
   ],
   "source": [
    "while True:\n",
    "    while ser.in_waiting > 0:\n",
    "        loc = read_lever()\n",
    "        send_sound_command(touch_message_datagram(loc / 255.0))\n",
    "        command_servo(loc)"
   ]
  }
 ],
 "metadata": {
  "kernelspec": {
   "display_name": "Python 2",
   "language": "python",
   "name": "python2"
  },
  "language_info": {
   "codemirror_mode": {
    "name": "ipython",
    "version": 2
   },
   "file_extension": ".py",
   "mimetype": "text/x-python",
   "name": "python",
   "nbconvert_exporter": "python",
   "pygments_lexer": "ipython2",
   "version": "2.7.13"
  }
 },
 "nbformat": 4,
 "nbformat_minor": 2
}
