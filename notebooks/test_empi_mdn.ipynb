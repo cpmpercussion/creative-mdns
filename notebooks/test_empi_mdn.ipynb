{
 "cells": [
  {
   "cell_type": "markdown",
   "metadata": {},
   "source": [
    "# Training and Testing an MDRNN on Sample Data\n",
    "\n",
    "This script trains and tests a mixture density recurrent neural network (MDRNN) on "
   ]
  },
  {
   "cell_type": "code",
   "execution_count": null,
   "metadata": {},
   "outputs": [],
   "source": [
    "%matplotlib inline\n",
    "import random\n",
    "import numpy as np\n",
    "import pandas as pd\n",
    "import time\n",
    "import matplotlib.pyplot as plt\n",
    "\n",
    "from context import *\n",
    "import keras"
   ]
  },
  {
   "cell_type": "code",
   "execution_count": null,
   "metadata": {},
   "outputs": [],
   "source": [
    "# Model Hyperparameters\n",
    "SEQ_LEN = 100\n",
    "SEQ_STEP = 1\n",
    "HIDDEN_UNITS = 128\n",
    "N_LAYERS = 2\n",
    "NUMBER_MIXTURES = 5\n",
    "TIME_DIST = True\n",
    "\n",
    "# Training Hyperparameters:\n",
    "BATCH_SIZE = 64\n",
    "EPOCHS = 100\n",
    "VAL_SPLIT = 0.10\n",
    "\n",
    "# Set random seed for reproducibility\n",
    "SEED = 2345\n",
    "random.seed(SEED)\n",
    "np.random.seed(SEED)"
   ]
  },
  {
   "cell_type": "code",
   "execution_count": null,
   "metadata": {},
   "outputs": [],
   "source": [
    "# Fake data:\n",
    "corpus = empi_mdrnn.generate_data()\n",
    "display(corpus)"
   ]
  },
  {
   "cell_type": "markdown",
   "metadata": {},
   "source": [
    "## Test Training"
   ]
  },
  {
   "cell_type": "code",
   "execution_count": null,
   "metadata": {},
   "outputs": [],
   "source": [
    "# Import Human Data CSV and create dt \n",
    "perf_df = pd.read_csv('../data/2018-01-25T14-04-35-rnnbox.csv', header=0, index_col=0, parse_dates=['date'])\n",
    "perf_df['time'] = perf_df.index\n",
    "perf_df['seconds'] = perf_df.index\n",
    "perf_df.time = perf_df.time.diff()\n",
    "perf_df.time = perf_df.time.dt.total_seconds()\n",
    "perf_df = perf_df.dropna()\n",
    "perf_df.value = perf_df.value / 255.0\n",
    "corpus_df = pd.DataFrame({'t': perf_df.time, 'x': perf_df.value})\n",
    "corpus = np.array(corpus_df)\n",
    "print(\"Shape of corpus array:\", corpus.shape)\n",
    "corpus_df.describe()\n",
    "perf_df.seconds = perf_df.seconds - perf_df.seconds[0]\n",
    "perf_df.seconds = perf_df.seconds.dt.total_seconds()\n",
    "perf_df.describe()"
   ]
  },
  {
   "cell_type": "code",
   "execution_count": null,
   "metadata": {},
   "outputs": [],
   "source": [
    "slices = empi_mdrnn.slice_sequence_examples(corpus, SEQ_LEN+1, step_size=SEQ_STEP)\n",
    "\n",
    "X, y = empi_mdrnn.seq_to_overlapping_format(slices)\n",
    "\n",
    "X = np.array(X) * empi_mdrnn.SCALE_FACTOR\n",
    "y = np.array(y) * empi_mdrnn.SCALE_FACTOR\n",
    "\n",
    "print(\"Number of training examples:\")\n",
    "print(\"X:\", X.shape)\n",
    "print(\"y:\", y.shape)"
   ]
  },
  {
   "cell_type": "code",
   "execution_count": null,
   "metadata": {},
   "outputs": [],
   "source": [
    "# Setup Training Model\n",
    "model = empi_mdrnn.build_model(seq_len=SEQ_LEN, hidden_units=HIDDEN_UNITS, num_mixtures=NUMBER_MIXTURES, layers=2, time_dist=TIME_DIST, inference=False, compile_model=True, print_summary=True)"
   ]
  },
  {
   "cell_type": "code",
   "execution_count": null,
   "metadata": {},
   "outputs": [],
   "source": [
    "# Setup callbacks\n",
    "model_path = \"empi_mdrnn\" + \"-layers\" + str(N_LAYERS) + \"-units\" + str(HIDDEN_UNITS) + \"-mixtures\" + str(NUMBER_MIXTURES) + \"-scale\" + str(empi_mdrnn.SCALE_FACTOR)\n",
    "filepath = model_path + \"-E{epoch:02d}-VL{val_loss:.2f}.hdf5\"\n",
    "checkpoint = keras.callbacks.ModelCheckpoint(filepath, monitor='val_loss', verbose=1, save_best_only=True, mode='min')\n",
    "terminateOnNaN = keras.callbacks.TerminateOnNaN()\n",
    "tboard = keras.callbacks.TensorBoard(log_dir='./logs/'+model_path, histogram_freq=2, batch_size=32, write_graph=True, update_freq='epoch')\n",
    "\n",
    "# Train\n",
    "history = model.fit(X, y, batch_size=BATCH_SIZE, epochs=EPOCHS, validation_split=VAL_SPLIT, callbacks=[checkpoint, terminateOnNaN, tboard])\n",
    "#history = model.fit_generator(generator, steps_per_epoch=300, epochs=100, verbose=1, initial_epoch=0)\n",
    "\n",
    "# Save final Model\n",
    "model.save('model_path' + '-final.hdf5')  # creates a HDF5 file of the model"
   ]
  },
  {
   "cell_type": "markdown",
   "metadata": {},
   "source": [
    "# Test Running Network"
   ]
  },
  {
   "cell_type": "code",
   "execution_count": null,
   "metadata": {},
   "outputs": [],
   "source": [
    "model_file = \"empi_mdrnn-layers2-units128-mixtures5-scale10-E55-VL-0.71.hdf5\"\n",
    "\n",
    "#model = empi_mdrnn.build_model(seq_len=SEQ_LEN, hidden_units=HIDDEN_UNITS, num_mixtures=NUMBER_MIXTURES, layers=2, time_dist=TIME_DIST, inference=False, compile_model=True, print_summary=True)\n",
    "decoder = empi_mdrnn.build_model(seq_len=1, hidden_units=HIDDEN_UNITS, num_mixtures=NUMBER_MIXTURES, layers=2, time_dist=False, inference=True, compile_model=False, print_summary=True)\n",
    "decoder.load_weights(model_file)"
   ]
  },
  {
   "cell_type": "code",
   "execution_count": null,
   "metadata": {},
   "outputs": [],
   "source": [
    "def generate_sample(model, n_mixtures, prev_sample, temp=1.0, sigma_temp=0.0):\n",
    "    \"\"\"Generate prediction for a single touch.\"\"\"\n",
    "    out_dim = 2\n",
    "    params = model.predict(prev_sample.reshape(1,1,out_dim) * SCALE_FACTOR)\n",
    "    new_sample = mdn.sample_from_output(params[0], out_dim, n_mixtures, temp=temp, sigma_temp=sigma_temp) / SCALE_FACTOR\n",
    "    new_sample = new_sample.reshape(out_dim,)\n",
    "    return new_sample\n",
    "\n",
    "def random_sample():\n",
    "    return np.array([(0.01 + (np.random.rand()-0.5)*0.005), (np.random.rand()-0.5)*2])"
   ]
  },
  {
   "cell_type": "code",
   "execution_count": null,
   "metadata": {},
   "outputs": [],
   "source": [
    "a = random_sample()\n",
    "display(a)\n",
    "display(generate_sample(decoder, NUMBER_MIXTURES, a))"
   ]
  },
  {
   "cell_type": "code",
   "execution_count": null,
   "metadata": {},
   "outputs": [],
   "source": [
    "SCALE_FACTOR = 10\n",
    "\n",
    "def generate_performance(model, n_mixtures, first_sample, time_limit=5.0, steps_limit=1000, temp=1.0, sigma_temp=0.0):\n",
    "    \"\"\"Generates a tiny performance up to 5 seconds in length.\"\"\"\n",
    "    out_dim = 2\n",
    "    time = 0\n",
    "    steps = 0\n",
    "    prev_sample = first_sample\n",
    "    print(prev_sample)\n",
    "    performance = [prev_sample.reshape((out_dim,))]\n",
    "    while (steps < steps_limit):  #  and time < time_limit\n",
    "        params = model.predict(prev_sample.reshape(1,1,out_dim) * SCALE_FACTOR)\n",
    "        prev_sample = mdn.sample_from_output(params[0], out_dim, n_mixtures, temp=temp, sigma_temp=sigma_temp) / SCALE_FACTOR\n",
    "        output_touch = prev_sample.reshape(out_dim,)\n",
    "        # output_touch = constrain_touch(output_touch)\n",
    "        performance.append(output_touch.reshape((out_dim,)))\n",
    "        steps += 1\n",
    "        time += output_touch[1]\n",
    "    return np.array(performance)"
   ]
  },
  {
   "cell_type": "code",
   "execution_count": null,
   "metadata": {},
   "outputs": [],
   "source": [
    "decoder.reset_states()\n",
    "mixture_temp = 1.5\n",
    "sigma_temp = 0.01\n",
    "t = np.array([(0.01 + (np.random.rand()-0.5)*0.005), (np.random.rand()-0.5)*2]) #robojam.random_touch()\n",
    "p = generate_performance(decoder, NUMBER_MIXTURES, t, temp=mixture_temp, sigma_temp=sigma_temp, steps_limit=10000)\n",
    "\n",
    "\n",
    "perf_df = pd.DataFrame({'t':p.T[0], 'x':p.T[1]})\n",
    "perf_df['time'] = perf_df.t.cumsum()\n",
    "#plt.show(perf_df.plot('time','x',kind='scatter'))\n",
    "plt.plot(perf_df.time, perf_df.x, '.r-')\n",
    "plt.show()\n",
    "print(perf_df.describe())\n",
    "\n",
    "## Investigate Output\n",
    "window = 100\n",
    "for n in [1000,2000,3000,4000,5000,6000]:\n",
    "    print(\"Window:\", str(n),'to',str(n+window))\n",
    "    plt.plot(perf_df[n:n+window].time, perf_df[n:n+window].x, '.r-')\n",
    "    plt.show()"
   ]
  }
 ],
 "metadata": {
  "kernelspec": {
   "display_name": "Python 3",
   "language": "python",
   "name": "python3"
  },
  "language_info": {
   "codemirror_mode": {
    "name": "ipython",
    "version": 3
   },
   "file_extension": ".py",
   "mimetype": "text/x-python",
   "name": "python",
   "nbconvert_exporter": "python",
   "pygments_lexer": "ipython3",
   "version": "3.6.5"
  }
 },
 "nbformat": 4,
 "nbformat_minor": 2
}
