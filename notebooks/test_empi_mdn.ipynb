{
 "cells": [
  {
   "cell_type": "markdown",
   "metadata": {},
   "source": [
    "# Training and Testing an MDRNN on Sample Data\n",
    "\n",
    "This script trains and tests a mixture density recurrent neural network (MDRNN) on "
   ]
  },
  {
   "cell_type": "code",
   "execution_count": 1,
   "metadata": {},
   "outputs": [
    {
     "name": "stderr",
     "output_type": "stream",
     "text": [
      "Using TensorFlow backend.\n"
     ]
    }
   ],
   "source": [
    "%matplotlib inline\n",
    "import random\n",
    "import numpy as np\n",
    "import pandas as pd\n",
    "import time\n",
    "import matplotlib.pyplot as plt\n",
    "\n",
    "from context import *\n",
    "import keras"
   ]
  },
  {
   "cell_type": "code",
   "execution_count": 2,
   "metadata": {},
   "outputs": [],
   "source": [
    "# Model Hyperparameters\n",
    "SEQ_LEN = 100\n",
    "SEQ_STEP = 1\n",
    "HIDDEN_UNITS = 32\n",
    "N_LAYERS = 2\n",
    "NUMBER_MIXTURES = 5\n",
    "TIME_DIST = True\n",
    "\n",
    "# Training Hyperparameters:\n",
    "BATCH_SIZE = 64\n",
    "EPOCHS = 100\n",
    "VAL_SPLIT = 0.10\n",
    "\n",
    "# Set random seed for reproducibility\n",
    "SEED = 2345\n",
    "random.seed(SEED)\n",
    "np.random.seed(SEED)"
   ]
  },
  {
   "cell_type": "code",
   "execution_count": 3,
   "metadata": {},
   "outputs": [
    {
     "name": "stdout",
     "output_type": "stream",
     "text": [
      "Generating 50000 toy data samples.\n",
      "                  t             x\n",
      "count  50000.000000  50000.000000\n",
      "mean       0.099998      0.000130\n",
      "std        0.007111      0.709363\n",
      "min        0.000100     -1.183651\n",
      "25%        0.095219     -0.704799\n",
      "50%        0.099997      0.000395\n",
      "75%        0.104798      0.706387\n",
      "max        0.129144      1.163638\n"
     ]
    }
   ],
   "source": [
    "# Fake data:\n",
    "corpus = empi_mdrnn.generate_data()"
   ]
  },
  {
   "cell_type": "markdown",
   "metadata": {},
   "source": [
    "## Test Training"
   ]
  },
  {
   "cell_type": "code",
   "execution_count": null,
   "metadata": {},
   "outputs": [],
   "source": [
    "# Import Human Data CSV and create dt \n",
    "perf_df = pd.read_csv('../data/2018-01-25T14-04-35-rnnbox.csv', header=0, index_col=0, parse_dates=['date'])\n",
    "perf_df['time'] = perf_df.index\n",
    "perf_df['seconds'] = perf_df.index\n",
    "perf_df.time = perf_df.time.diff()\n",
    "perf_df.time = perf_df.time.dt.total_seconds()\n",
    "perf_df = perf_df.dropna()\n",
    "perf_df.value = perf_df.value / 255.0\n",
    "corpus_df = pd.DataFrame({'t': perf_df.time, 'x': perf_df.value})\n",
    "corpus = np.array(corpus_df)\n",
    "print(\"Shape of corpus array:\", corpus.shape)\n",
    "corpus_df.describe()\n",
    "perf_df.seconds = perf_df.seconds - perf_df.seconds[0]\n",
    "perf_df.seconds = perf_df.seconds.dt.total_seconds()\n",
    "display(perf_df.describe())"
   ]
  },
  {
   "cell_type": "code",
   "execution_count": null,
   "metadata": {},
   "outputs": [],
   "source": [
    "# Turn corpus into training examples.\n",
    "slices = empi_mdrnn.slice_sequence_examples(corpus, SEQ_LEN+1, step_size=SEQ_STEP)\n",
    "X, y = empi_mdrnn.seq_to_overlapping_format(slices)\n",
    "X = np.array(X) * empi_mdrnn.SCALE_FACTOR\n",
    "y = np.array(y) * empi_mdrnn.SCALE_FACTOR\n",
    "print(\"Number of training examples:\")\n",
    "print(\"X:\", X.shape)\n",
    "print(\"y:\", y.shape)"
   ]
  },
  {
   "cell_type": "code",
   "execution_count": null,
   "metadata": {},
   "outputs": [],
   "source": [
    "# Setup Training Model\n",
    "model = empi_mdrnn.build_model(seq_len=SEQ_LEN, hidden_units=HIDDEN_UNITS, num_mixtures=NUMBER_MIXTURES, layers=2, time_dist=TIME_DIST, inference=False, compile_model=True, print_summary=True)"
   ]
  },
  {
   "cell_type": "code",
   "execution_count": null,
   "metadata": {},
   "outputs": [],
   "source": [
    "# Setup callbacks\n",
    "model_path = \"empi_mdrnn\" + \"-layers\" + str(N_LAYERS) + \"-units\" + str(HIDDEN_UNITS) + \"-mixtures\" + str(NUMBER_MIXTURES) + \"-scale\" + str(empi_mdrnn.SCALE_FACTOR)\n",
    "filepath = model_path + \"-E{epoch:02d}-VL{val_loss:.2f}.hdf5\"\n",
    "checkpoint = keras.callbacks.ModelCheckpoint(filepath, monitor='val_loss', verbose=1, save_best_only=True, mode='min')\n",
    "terminateOnNaN = keras.callbacks.TerminateOnNaN()\n",
    "tboard = keras.callbacks.TensorBoard(log_dir='./logs/'+model_path, histogram_freq=2, batch_size=32, write_graph=True, update_freq='epoch')\n",
    "\n",
    "# Train\n",
    "history = model.fit(X, y, batch_size=BATCH_SIZE, epochs=EPOCHS, validation_split=VAL_SPLIT, callbacks=[checkpoint, terminateOnNaN, tboard])\n",
    "#history = model.fit_generator(generator, steps_per_epoch=300, epochs=100, verbose=1, initial_epoch=0)\n",
    "\n",
    "# Save final Model\n",
    "model.save('model_path' + '-final.hdf5')  # creates a HDF5 file of the model"
   ]
  },
  {
   "cell_type": "markdown",
   "metadata": {},
   "source": [
    "# Test Running Network"
   ]
  },
  {
   "cell_type": "code",
   "execution_count": null,
   "metadata": {},
   "outputs": [],
   "source": [
    "#model_file = \"empi_mdrnn-layers2-units128-mixtures5-scale10-E55-VL-0.71.hdf5\"\n",
    "model_file = \"../models-human/empi_mdrnn-layers2-units128-mixtures5-scale10-E84-VL-3.68.hdf5\"\n",
    "\n",
    "#model = empi_mdrnn.build_model(seq_len=SEQ_LEN, hidden_units=HIDDEN_UNITS, num_mixtures=NUMBER_MIXTURES, layers=2, time_dist=TIME_DIST, inference=False, compile_model=True, print_summary=True)\n",
    "decoder = empi_mdrnn.build_model(seq_len=1, hidden_units=HIDDEN_UNITS, num_mixtures=NUMBER_MIXTURES, layers=2, time_dist=False, inference=True, compile_model=False, print_summary=True)\n",
    "decoder.load_weights(model_file)"
   ]
  },
  {
   "cell_type": "code",
   "execution_count": null,
   "metadata": {},
   "outputs": [],
   "source": [
    "decoder.reset_states()\n",
    "num_steps = 1500\n",
    "mixture_temp = 1.5\n",
    "sigma_temp = 0.01\n",
    "t = np.array([(0.01 + (np.random.rand())*0.005), np.random.rand()]) #robojam.random_touch()\n",
    "p = empi_mdrnn.generate_performance(decoder, NUMBER_MIXTURES, t, temp=mixture_temp, sigma_temp=sigma_temp, steps_limit=num_steps)\n",
    "\n",
    "\n",
    "perf_df = pd.DataFrame({'t':p.T[0], 'x':p.T[1]})\n",
    "perf_df['time'] = perf_df.t.cumsum()\n",
    "#plt.show(perf_df.plot('time','x',kind='scatter'))\n",
    "plt.plot(perf_df.time, perf_df.x, '.r-')\n",
    "plt.show()\n",
    "print(perf_df.describe())"
   ]
  },
  {
   "cell_type": "code",
   "execution_count": null,
   "metadata": {},
   "outputs": [],
   "source": [
    "# Generate slightly nicer plot.\n",
    "ax = perf_df.plot(x='time', y='x', kind=\"line\", color='r', figsize=(15,4), legend=False)\n",
    "ax.set_xlabel(\"seconds\")\n",
    "ax.set_ylabel(\"position\")\n",
    "ax.get_figure().savefig('human_data_output.pdf', dpi=300, bbox_inches=\"tight\")\n",
    "ax.get_figure().savefig('human_data_output.png', dpi=300, bbox_inches=\"tight\")"
   ]
  },
  {
   "cell_type": "code",
   "execution_count": null,
   "metadata": {},
   "outputs": [],
   "source": [
    "## Investigate Output\n",
    "window = 100\n",
    "for n in [1000,2000,3000,4000,5000,6000]:\n",
    "    print(\"Window:\", str(n),'to',str(n+window))\n",
    "    plt.plot(perf_df[n:n+window].time, perf_df[n:n+window].x, '.r-')\n",
    "    plt.show()"
   ]
  }
 ],
 "metadata": {
  "kernelspec": {
   "display_name": "Python 3",
   "language": "python",
   "name": "python3"
  },
  "language_info": {
   "codemirror_mode": {
    "name": "ipython",
    "version": 3
   },
   "file_extension": ".py",
   "mimetype": "text/x-python",
   "name": "python",
   "nbconvert_exporter": "python",
   "pygments_lexer": "ipython3",
   "version": "3.6.5"
  }
 },
 "nbformat": 4,
 "nbformat_minor": 2
}
