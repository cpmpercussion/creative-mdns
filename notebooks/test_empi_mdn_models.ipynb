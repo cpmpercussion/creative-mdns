{
 "cells": [
  {
   "cell_type": "markdown",
   "metadata": {},
   "source": [
    "# Training and Testing an MDRNN on Different Models\n",
    "\n",
    "This script tests the MDRNN on different models"
   ]
  },
  {
   "cell_type": "code",
   "execution_count": null,
   "metadata": {},
   "outputs": [],
   "source": [
    "%matplotlib inline\n",
    "import random\n",
    "import numpy as np\n",
    "import pandas as pd\n",
    "import time\n",
    "import matplotlib.pyplot as plt\n",
    "from context import *\n",
    "import empi_mdrnn\n",
    "import tensorflow as tf\n",
    "from keras import backend as K"
   ]
  },
  {
   "cell_type": "code",
   "execution_count": null,
   "metadata": {},
   "outputs": [],
   "source": [
    "# Model Hyperparameters\n",
    "mdrnn_units = 32\n",
    "mdrnn_mixes = 5\n",
    "mdrnn_layers = 2\n",
    "\n",
    "pitemp = 1\n",
    "sigmatemp = 0.01\n",
    "\n",
    "empi_mdrnn.MODEL_DIR = \"./models/\"\n",
    "net = empi_mdrnn.PredictiveMusicMDRNN(mode=empi_mdrnn.NET_MODE_RUN,\n",
    "                                              dimension=2,\n",
    "                                              n_hidden_units=mdrnn_units,\n",
    "                                              n_mixtures=mdrnn_mixes,\n",
    "                                              layers=mdrnn_layers)\n",
    "net.pi_temp = pitemp\n",
    "net.sigma_temp = sigmatemp"
   ]
  },
  {
   "cell_type": "code",
   "execution_count": null,
   "metadata": {},
   "outputs": [],
   "source": [
    "# test untrained model.\n",
    "#net.model.load_weights(\"../models/musicMDRNN-dim2-layers2-units32-mixtures5-scale10-human.h5\")\n",
    "net.prepare_model_for_running()\n",
    "sample = empi_mdrnn.random_sample()\n",
    "num_steps = 1500\n",
    "p = net.generate_performance(sample, num_steps)\n",
    "perf_df = pd.DataFrame({'t':p.T[0], 'x':p.T[1]})\n",
    "perf_df['time'] = perf_df.t.cumsum()\n",
    "#plt.plot(perf_df.time, perf_df.x, '.r-')\n",
    "#plt.show()\n",
    "display(perf_df.describe())\n",
    "\n",
    "# Generate slightly nicer plot.\n",
    "ax = perf_df.plot(x='time', y='x', kind=\"line\", color='g', figsize=(15,4), legend=False)\n",
    "ax.set_xlabel(\"seconds\")\n",
    "ax.set_ylabel(\"position\")\n",
    "ax.get_figure().savefig('../images/untrained_data_output.pdf', dpi=300, bbox_inches=\"tight\")\n",
    "ax.get_figure().savefig('../images/untrained_data_output.png', dpi=300, bbox_inches=\"tight\")"
   ]
  },
  {
   "cell_type": "code",
   "execution_count": null,
   "metadata": {},
   "outputs": [],
   "source": [
    "# Load and test synthetic model.\n",
    "net.model.load_weights(\"../models/musicMDRNN-dim2-layers2-units32-mixtures5-scale10-synth.h5\")\n",
    "net.prepare_model_for_running()\n",
    "sample = empi_mdrnn.random_sample()\n",
    "num_steps = 1500\n",
    "p = net.generate_performance(sample, num_steps)\n",
    "perf_df = pd.DataFrame({'t':p.T[0], 'x':p.T[1]})\n",
    "perf_df['time'] = perf_df.t.cumsum()\n",
    "display(perf_df.describe())\n",
    "\n",
    "# Generate slightly nicer plot.\n",
    "ax = perf_df.plot(x='time', y='x', kind=\"line\", color='r', figsize=(15,4), legend=False)\n",
    "ax.set_xlabel(\"seconds\")\n",
    "ax.set_ylabel(\"position\")\n",
    "ax.get_figure().savefig('../images/synth_data_output.pdf', dpi=300, bbox_inches=\"tight\")\n",
    "ax.get_figure().savefig('../images/synth_data_output.png', dpi=300, bbox_inches=\"tight\")"
   ]
  },
  {
   "cell_type": "code",
   "execution_count": null,
   "metadata": {},
   "outputs": [],
   "source": [
    "# Load and test synthetic model.\n",
    "net.model.load_weights(\"../models/musicMDRNN-dim2-layers2-units32-mixtures5-scale10-human.h5\")\n",
    "net.prepare_model_for_running()\n",
    "sample = empi_mdrnn.random_sample()\n",
    "num_steps = 1500\n",
    "p = net.generate_performance(sample, num_steps)\n",
    "perf_df = pd.DataFrame({'t':p.T[0], 'x':p.T[1]})\n",
    "perf_df['time'] = perf_df.t.cumsum()\n",
    "#plt.plot(perf_df.time, perf_df.x, '.r-')\n",
    "#plt.show()\n",
    "display(perf_df.describe())\n",
    "\n",
    "# Generate slightly nicer plot.\n",
    "ax = perf_df.plot(x='time', y='x', kind=\"line\", color='b', figsize=(15,4), legend=False)\n",
    "ax.set_xlabel(\"seconds\")\n",
    "ax.set_ylabel(\"position\")\n",
    "ax.get_figure().savefig('../images/human_data_output.pdf', dpi=300, bbox_inches=\"tight\")\n",
    "ax.get_figure().savefig('../images/human_data_output.png', dpi=300, bbox_inches=\"tight\")"
   ]
  },
  {
   "cell_type": "code",
   "execution_count": null,
   "metadata": {},
   "outputs": [],
   "source": [
    "# ## Investigate Output\n",
    "# window = 100\n",
    "# for n in [1000,2000,3000,4000,5000,6000]:\n",
    "#     print(\"Window:\", str(n),'to',str(n+window))\n",
    "#     plt.plot(perf_df[n:n+window].time, perf_df[n:n+window].x, '.r-')\n",
    "#     plt.show()"
   ]
  }
 ],
 "metadata": {
  "kernelspec": {
   "display_name": "Python 3",
   "language": "python",
   "name": "python3"
  },
  "language_info": {
   "codemirror_mode": {
    "name": "ipython",
    "version": 3
   },
   "file_extension": ".py",
   "mimetype": "text/x-python",
   "name": "python",
   "nbconvert_exporter": "python",
   "pygments_lexer": "ipython3",
   "version": "3.7.4"
  }
 },
 "nbformat": 4,
 "nbformat_minor": 2
}
