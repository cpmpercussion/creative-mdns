{
 "cells": [
  {
   "cell_type": "markdown",
   "metadata": {},
   "source": [
    "# Training and Testing an MDRNN on Different Models\n",
    "\n",
    "This script tests the MDRNN on different trained models and generates some output plots."
   ]
  },
  {
   "cell_type": "code",
   "execution_count": null,
   "metadata": {},
   "outputs": [],
   "source": [
    "%matplotlib inline\n",
    "import random\n",
    "import numpy as np\n",
    "import pandas as pd\n",
    "import time\n",
    "import matplotlib.pyplot as plt\n",
    "from context import *\n",
    "import empi_mdrnn\n",
    "\n",
    "def generate_test_performance(weights_file, net, num_steps=1500):\n",
    "    \"\"\"Generate num_steps of unconstrained data from a network (net), with weights_file's weights\"\"\"\n",
    "    net.model.load_weights(weights_file)\n",
    "    net.prepare_model_for_running()\n",
    "    sample = empi_mdrnn.random_sample()\n",
    "    p = net.generate_performance(sample, num_steps)\n",
    "    perf_df = pd.DataFrame({'t':p.T[0], 'x':p.T[1]})\n",
    "    perf_df['time'] = perf_df.t.cumsum()\n",
    "    return perf_df\n",
    "    \n",
    "def plot_nn_output(output_df, name=\"unknown\", colour='b'):\n",
    "    \"\"\"Plot the data in output_df assuming it has columns x and time\"\"\"\n",
    "    ax = perf_df.plot(x='time', y='x', kind=\"line\", color=colour, figsize=(15,4), legend=False)\n",
    "    ax.set_xlabel(\"seconds\")\n",
    "    ax.set_ylabel(\"position\")\n",
    "    ax.get_figure().savefig('../images/model_output/'+name+'_model_output.pdf', dpi=300, bbox_inches=\"tight\")\n",
    "    ax.get_figure().savefig('../images/model_output/'+name+'_model_output.png', dpi=300, bbox_inches=\"tight\")"
   ]
  },
  {
   "cell_type": "markdown",
   "metadata": {},
   "source": [
    "### Setup network and test\n",
    "\n",
    "Setup network and test with each trained model. Main parameters to change here are `mdrnn_units` and `num_steps`"
   ]
  },
  {
   "cell_type": "code",
   "execution_count": null,
   "metadata": {},
   "outputs": [],
   "source": [
    "# Model Hyperparameters\n",
    "mdrnn_units = 32\n",
    "mdrnn_mixes = 5\n",
    "mdrnn_layers = 2\n",
    "# Sampling parameters\n",
    "pitemp = 1\n",
    "sigmatemp = 0.01\n",
    "# Number of steps to sample\n",
    "num_steps = 500\n",
    "\n",
    "empi_mdrnn.MODEL_DIR = \"./models/\"\n",
    "net = empi_mdrnn.PredictiveMusicMDRNN(mode=empi_mdrnn.NET_MODE_RUN,\n",
    "                                              dimension=2,\n",
    "                                              n_hidden_units=mdrnn_units,\n",
    "                                              n_mixtures=mdrnn_mixes,\n",
    "                                              layers=mdrnn_layers)\n",
    "net.pi_temp = pitemp\n",
    "net.sigma_temp = sigmatemp\n",
    "\n",
    "# test noise model.\n",
    "model_file = \"../models/musicMDRNN-dim2-layers2-units\"+str(mdrnn_units)+\"-mixtures5-scale10-noise.h5\"\n",
    "perf_df = generate_test_performance(model_file, net, num_steps=num_steps)\n",
    "display(perf_df.describe())\n",
    "# Generate slightly nicer plot.\n",
    "plot_nn_output(perf_df, name=\"noise\"+str(mdrnn_units))\n",
    "\n",
    "# Load and test synthetic model.\n",
    "model_file = \"../models/musicMDRNN-dim2-layers2-units\"+str(mdrnn_units)+\"-mixtures5-scale10-synth.h5\"\n",
    "perf_df = generate_test_performance(model_file, net, num_steps=num_steps)\n",
    "display(perf_df.describe())\n",
    "# Generate slightly nicer plot.\n",
    "plot_nn_output(perf_df, name=\"synth\"+str(mdrnn_units))\n",
    "\n",
    "# Load and test synthetic model.\n",
    "model_file = \"../models/musicMDRNN-dim2-layers2-units\"+str(mdrnn_units)+\"-mixtures5-scale10-human.h5\"\n",
    "perf_df = generate_test_performance(model_file, net, num_steps=num_steps)\n",
    "display(perf_df.describe())\n",
    "# Generate slightly nicer plot.\n",
    "plot_nn_output(perf_df, name=\"human\"+str(mdrnn_units))"
   ]
  },
  {
   "cell_type": "code",
   "execution_count": null,
   "metadata": {},
   "outputs": [],
   "source": [
    "# ## Investigate Output\n",
    "# window = 100\n",
    "# for n in [1000,2000,3000,4000,5000,6000]:\n",
    "#     print(\"Window:\", str(n),'to',str(n+window))\n",
    "#     plt.plot(perf_df[n:n+window].time, perf_df[n:n+window].x, '.r-')\n",
    "#     plt.show()"
   ]
  }
 ],
 "metadata": {
  "kernelspec": {
   "display_name": "Python 3",
   "language": "python",
   "name": "python3"
  },
  "language_info": {
   "codemirror_mode": {
    "name": "ipython",
    "version": 3
   },
   "file_extension": ".py",
   "mimetype": "text/x-python",
   "name": "python",
   "nbconvert_exporter": "python",
   "pygments_lexer": "ipython3",
   "version": "3.7.4"
  }
 },
 "nbformat": 4,
 "nbformat_minor": 2
}
