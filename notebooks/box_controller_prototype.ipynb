{
 "cells": [
  {
   "cell_type": "markdown",
   "metadata": {},
   "source": [
    "# Controller for the Servo and Lever Box Proof-of-concept.\n",
    "\n",
    "This script defines a simple interactive MDRNN application for a musical interface with one real-valued input, a sound processing system, and one physical output.\n",
    "\n",
    "## Import Modules"
   ]
  },
  {
   "cell_type": "code",
   "execution_count": null,
   "metadata": {},
   "outputs": [],
   "source": [
    "import serial\n",
    "import time\n",
    "import struct\n",
    "import socket\n",
    "from threading import Thread\n",
    "import sketch_mdn\n",
    "import numpy as np\n",
    "import pandas as pd\n",
    "import tensorflow as tf"
   ]
  },
  {
   "cell_type": "markdown",
   "metadata": {},
   "source": [
    "## OSC and Serial Communication\n",
    "\n",
    "- A basic OSC client to send '/touch' messages to Pd\n",
    "- Communication with a physical interface with one input and one output over serial."
   ]
  },
  {
   "cell_type": "code",
   "execution_count": null,
   "metadata": {},
   "outputs": [],
   "source": [
    "\n",
    "# Details for OSC output\n",
    "ADDRESS = \"localhost\"\n",
    "PORT = 5000\n",
    "INT_FLOAT_DGRAM_LEN = 4\n",
    "STRING_DGRAM_PAD = 4\n",
    "\n",
    "# Socket for OSC output.\n",
    "sock = socket.socket(socket.AF_INET, socket.SOCK_DGRAM)\n",
    "sock.setblocking(0)\n",
    "\n",
    "# Serial for input and output via a USB-connected microcontroller.\n",
    "try:\n",
    "    ser = serial.Serial('/dev/cu.usbmodem1411', 9600)\n",
    "except serial.SerialException:\n",
    "    print(\"Serial Port busy or not available.\")\n",
    "\n",
    "## Functions for OSC Connection.\n",
    "\n",
    "def send_sound_command(osc_datagram):\n",
    "    \"\"\"Send OSC message via UDP.\"\"\"\n",
    "    sock.sendto(osc_datagram, (ADDRESS, PORT))\n",
    "\n",
    "def pad_dgram_four_bytes(dgram):\n",
    "    \"\"\"Pad a datagram up to a multiple of 4 bytes.\"\"\"\n",
    "    return (dgram + (b'\\x00' * (4 - len(dgram) % 4)))\n",
    "\n",
    "def touch_message_datagram(pos = 0.0):\n",
    "    \"\"\"Construct an osc message with address /touch and one float.\"\"\"\n",
    "    dgram = b''\n",
    "    dgram += pad_dgram_four_bytes(\"/touch\".encode('utf-8'))\n",
    "    dgram += pad_dgram_four_bytes(b',f')  # (\",f\"), is this working? test again.\n",
    "    dgram += struct.pack('>f', pos)\n",
    "    return dgram\n",
    "\n",
    "# Functions for sending and receving from levers.\n",
    "\n",
    "def command_servo(input=128):\n",
    "    \"\"\"Send a command to the servo. Input is between 0, 255\"\"\"\n",
    "    ser.write(struct.pack('B',input))\n",
    "    \n",
    "def read_lever():\n",
    "    \"\"\"Read a single byte from the lever and return as integer.\"\"\"\n",
    "    return ord(ser.read(1))\n",
    "\n",
    "# Functions for playing back level sounds and moving servo\n",
    "\n",
    "def move_and_play_sound(loc):\n",
    "    \"\"\"Move the servo and play a sound in response to a byte input.\"\"\"\n",
    "    command_servo(loc)\n",
    "    send_sound_command(touch_message_datagram(loc / 255.0))\n",
    "    \n",
    "def clear_and_play_serial_input(movement = True):\n",
    "    \"\"\"Clears the serial buffer of input and plays it all.\"\"\"\n",
    "    while ser.in_waiting > 0:\n",
    "        loc = read_lever()\n",
    "        send_sound_command(touch_message_datagram(loc / 255.0))\n",
    "        if movement:\n",
    "            command_servo(loc)"
   ]
  },
  {
   "cell_type": "markdown",
   "metadata": {},
   "source": [
    "## Load the Model\n",
    "\n",
    "Loads a `musical_mdn` model with one predicted variable and time."
   ]
  },
  {
   "cell_type": "code",
   "execution_count": null,
   "metadata": {},
   "outputs": [],
   "source": [
    "## MDN\n",
    "sketch_mdn.MODEL_DIR = \"./\"\n",
    "#net = musical_mdn.TinyJamNet2D(mode = musical_mdn.NET_MODE_RUN, n_hidden_units = 128, n_mixtures = 10, batch_size = 1, sequence_length = 1)\n",
    "net = sketch_mdn.MixtureRNN(mode = sketch_mdn.NET_MODE_RUN, n_hidden_units = 128, n_mixtures = 10, batch_size = 1, sequence_length = 1)"
   ]
  },
  {
   "cell_type": "markdown",
   "metadata": {},
   "source": [
    "# Perform from Model\n",
    "\n",
    "This code sets up a performance demonstration with the model.\n",
    "\n",
    "- Human response run loop is set up to connect the input level to the sound processor\n",
    "- Human run loop is threaded\n",
    "- A 30 second performance is sampled from the network and performed by the script in the main thread.\n",
    "- After this performance all run loops are stopped.\n"
   ]
  },
  {
   "cell_type": "code",
   "execution_count": null,
   "metadata": {},
   "outputs": [],
   "source": [
    "listening_as_well = False\n",
    "first_touch = np.array([(0.01 + (np.random.rand()-0.5)*0.005), (np.random.rand()-0.5)*20])\n",
    "\n",
    "def threaded_function():\n",
    "    ## Reacts to serial with sound, not movement\n",
    "    while keep_reacting_to_lever:\n",
    "        while ser.in_waiting > 0:\n",
    "            loc = read_lever()\n",
    "            send_sound_command(touch_message_datagram(loc / 255.0))\n",
    "\n",
    "# Start a thread for listening\n",
    "if listening_as_well:\n",
    "    keep_reacting_to_lever = True\n",
    "    thread = Thread(target = threaded_function)\n",
    "    thread.start()\n",
    "            \n",
    "# Start TF Predictions\n",
    "with tf.Session() as sess:\n",
    "    # Get network ready to run\n",
    "    net.prepare_model_for_running(sess)\n",
    "    last_touch = first_touch\n",
    "    time_total = 0\n",
    "    count = 0\n",
    "    \n",
    "    print(\"Performing a 30s performance\")\n",
    "    while time_total < 30.0:\n",
    "        # generate some output and schedule sounds and movement.\n",
    "        last_touch = net.generate_touch(last_touch, sess)\n",
    "        output = last_touch.reshape((2,))\n",
    "        # convert to dt, byte format\n",
    "        dt = output[0]\n",
    "        pos = output[1]\n",
    "        pos = int((pos + 10) * 255 / 20.0)\n",
    "        pos = min(max(pos, 0), 255)\n",
    "        dt = max(dt, 0)\n",
    "        #print(dt)\n",
    "        time.sleep(dt)\n",
    "        move_and_play_sound(pos)\n",
    "        time_total += dt\n",
    "        count += 1\n",
    "    print(\"Done, time was\", time_total, \"with\", count, \"moves.\")\n",
    "    keep_reacting_to_lever = False\n",
    "    \n",
    "if listening_as_well:\n",
    "    thread.join()\n",
    "    print(\"thread finished...exiting\")"
   ]
  },
  {
   "cell_type": "markdown",
   "metadata": {},
   "source": [
    "# Alternative Run Loop\n",
    "\n",
    "- No prediction \n",
    "- Just ties output lever movement and sound to input lever. \n",
    "- Just for demonstration and debugging."
   ]
  },
  {
   "cell_type": "code",
   "execution_count": null,
   "metadata": {},
   "outputs": [],
   "source": [
    "def run_loop():\n",
    "    clear_and_play_serial_input(movement = True)\n",
    "\n",
    "print(\"Now running reaction loop...\")\n",
    "try:\n",
    "    while True:\n",
    "        run_loop()\n",
    "except KeyboardInterrupt:\n",
    "    pass\n",
    "finally:\n",
    "    print(\"\\nReaction Loop Finished\")"
   ]
  }
 ],
 "metadata": {
  "kernelspec": {
   "display_name": "Python 3",
   "language": "python",
   "name": "python3"
  },
  "language_info": {
   "codemirror_mode": {
    "name": "ipython",
    "version": 3
   },
   "file_extension": ".py",
   "mimetype": "text/x-python",
   "name": "python",
   "nbconvert_exporter": "python",
   "pygments_lexer": "ipython3",
   "version": "3.6.5"
  }
 },
 "nbformat": 4,
 "nbformat_minor": 2
}
