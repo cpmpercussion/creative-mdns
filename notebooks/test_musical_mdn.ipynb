{
 "cells": [
  {
   "cell_type": "markdown",
   "metadata": {},
   "source": [
    "# Testing the Musical MDN Code\n",
    "\n",
    "This script trains and evaluates the `musical_mdn` model on synthetic sample data. First, 50000 points of sample data are generated, then a small network is trained on this data for 30 epochs. Finally, the network is run in unconstrained generation mode to examine the results directly.\n",
    "\n",
    "The `musical_mdn` includes a 2D mixture density recurrent neural network (MDRNN) model with a loss function defined by Tensorflow's included probability distribution functions. \n",
    "\n",
    "### Import modules"
   ]
  },
  {
   "cell_type": "code",
   "execution_count": null,
   "metadata": {},
   "outputs": [],
   "source": [
    "%matplotlib inline\n",
    "import random\n",
    "import numpy as np\n",
    "import pandas as pd\n",
    "import time\n",
    "import matplotlib.pyplot as plt\n",
    "\n",
    "from context import *\n",
    "import keras\n",
    "import tensorflow as tf"
   ]
  },
  {
   "cell_type": "markdown",
   "metadata": {},
   "source": [
    "## Training Test\n",
    "\n",
    "- generate synthetic training data (noisy sine).\n",
    "- initialise the ANN (`EmpiRNN`).\n",
    "- Train for a few epochs.\n",
    "- Plot the losses."
   ]
  },
  {
   "cell_type": "code",
   "execution_count": null,
   "metadata": {
    "scrolled": false
   },
   "outputs": [],
   "source": [
    "x_t_log = empi_mdrnn.generate_data()\n",
    "slices = empi_mdrnn.slice_sequence_examples(x_t_log, 121, step_size=10)\n",
    "X, y = empi_mdrnn.seq_to_overlapping_format(slices)\n",
    "\n",
    "\n",
    "net = empi_mdrnn.EmpiRNN(mode = empi_mdrnn.NET_MODE_TRAIN, n_hidden_units = 128, n_mixtures = 10, batch_size = 100, sequence_length = 120)\n",
    "history = net.train(X, y, num_epochs=10, saving=False)\n",
    "## Plot the losses."
   ]
  },
  {
   "cell_type": "code",
   "execution_count": null,
   "metadata": {},
   "outputs": [],
   "source": [
    "## Plot the losses.\n",
    "loss_df = pd.DataFrame(history.history)\n",
    "loss_df.plot()\n",
    "print(\"Losses for each epoch.\")"
   ]
  },
  {
   "cell_type": "code",
   "execution_count": null,
   "metadata": {},
   "outputs": [],
   "source": [
    "# Transfer model to decoder.\n",
    "weights = net.model.get_weights()"
   ]
  },
  {
   "cell_type": "code",
   "execution_count": null,
   "metadata": {},
   "outputs": [],
   "source": [
    "net = empi_mdrnn.EmpiRNN(mode = empi_mdrnn.NET_MODE_RUN, n_hidden_units = 128, n_mixtures = 10, layers=2)\n",
    "net.model.set_weights(weights)"
   ]
  },
  {
   "cell_type": "markdown",
   "metadata": {},
   "source": [
    "## Evaluation Test\n",
    "\n",
    "Predict 10000 Datapoints and plot some segments."
   ]
  },
  {
   "cell_type": "code",
   "execution_count": null,
   "metadata": {},
   "outputs": [],
   "source": [
    "# compute_graph = tf.Graph()\n",
    "# with compute_graph.as_default():\n",
    "#     sess = tf.Session()"
   ]
  },
  {
   "cell_type": "code",
   "execution_count": null,
   "metadata": {},
   "outputs": [],
   "source": [
    "## Evaluation Test:\n",
    "## Predict 10000 Datapoints.\n",
    "net = empi_mdrnn.EmpiRNN(mode = empi_mdrnn.NET_MODE_RUN, n_hidden_units = 128, n_mixtures = 5, layers=2)"
   ]
  },
  {
   "cell_type": "code",
   "execution_count": null,
   "metadata": {},
   "outputs": [],
   "source": [
    "# Load human trained model.\n",
    "net.load_model(model_file = '../models/empi_mdrnn-layers2-units128-mixtures5-scale10-E84-VL-3.68.hdf5')"
   ]
  },
  {
   "cell_type": "code",
   "execution_count": null,
   "metadata": {},
   "outputs": [],
   "source": [
    "first_touch = empi_mdrnn.random_sample()\n",
    "print(\"Test Input:\",first_touch)\n",
    "#with tf.Session() as sess\n",
    "perf = net.generate_performance(first_touch,10000) #,sess)\n",
    "print(\"Test Output:\")\n",
    "perf_df = pd.DataFrame({'t':perf.T[0], 'x':perf.T[1]})\n",
    "perf_df['time'] = perf_df.t.cumsum()\n",
    "#plt.show(perf_df.plot('time','x',kind='scatter'))\n",
    "plt.plot(perf_df.time, perf_df.x, '.r-')\n",
    "plt.show()\n",
    "print(perf_df.describe())\n",
    "## Investigate Output\n",
    "window = 100\n",
    "for n in [1000,2000,3000,4000,5000,6000]:\n",
    "    print(\"Window:\", str(n),'to',str(n+window))\n",
    "    plt.plot(perf_df[n:n+window].time, perf_df[n:n+window].x, '.r-')\n",
    "    plt.show()"
   ]
  }
 ],
 "metadata": {
  "kernelspec": {
   "display_name": "Python 2",
   "language": "python",
   "name": "python2"
  },
  "language_info": {
   "codemirror_mode": {
    "name": "ipython",
    "version": 3
   },
   "file_extension": ".py",
   "mimetype": "text/x-python",
   "name": "python",
   "nbconvert_exporter": "python",
   "pygments_lexer": "ipython3",
   "version": "3.6.5"
  }
 },
 "nbformat": 4,
 "nbformat_minor": 2
}
