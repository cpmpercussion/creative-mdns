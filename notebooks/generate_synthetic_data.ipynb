{
 "cells": [
  {
   "cell_type": "markdown",
   "metadata": {},
   "source": [
    "# Training and Testing an MDRNN on Synthetic Data\n",
    "\n",
    "This script trains and tests a mixture density recurrent neural network (MDRNN) on synthetic performances.\n",
    "\n",
    "Ideas to investigate:\n",
    "\n",
    "- give the data a variety of periods instead of 15000 samples in the same\n",
    "- save all the waves together (done)"
   ]
  },
  {
   "cell_type": "code",
   "execution_count": null,
   "metadata": {},
   "outputs": [],
   "source": [
    "%matplotlib inline\n",
    "import numpy as np\n",
    "import scipy.signal\n",
    "import matplotlib.pyplot as plt\n",
    "import seaborn as sns\n",
    "import pandas as pd\n",
    "import time\n",
    "\n",
    "## Parameters for time distribution (found from studying human sourced data)\n",
    "time_mean = 0.044860\n",
    "time_std = 0.183995\n",
    "time_min = 0.000454\n",
    "time_max = 8.463944\n",
    "\n",
    "def gen_function_data(function_generator, freq, num_samples):\n",
    "    \"\"\"Generates data using a generator function.\"\"\"\n",
    "    t_diffs = np.random.normal(loc=time_mean, scale=time_std, size=num_samples)\n",
    "    out_df = pd.DataFrame({'dt' : t_diffs})\n",
    "    out_df.dt = out_df.dt.abs()\n",
    "    out_df['seconds'] = out_df.dt.cumsum()\n",
    "    out_df['value'] = (function_generator(freq * 2 * np.pi * out_df.seconds) * 0.5) + 0.5\n",
    "    return out_df\n",
    "\n",
    "def gen_noise(num_samples):\n",
    "    t_diffs = np.random.normal(loc=time_mean, scale=time_std, size=num_samples)\n",
    "    values = np.random.uniform(low=0.0, high=1.0, size=num_samples)\n",
    "    out_df = pd.DataFrame({'dt' : t_diffs, 'value' : values})\n",
    "    out_df.dt = out_df.dt.abs()\n",
    "    out_df['seconds'] = out_df.dt.cumsum()\n",
    "    return out_df\n",
    "\n",
    "NSAMPLE = 150000\n",
    "# Generate Synthetic data from different functions with different frequencies.\n",
    "output_dfs = []\n",
    "functions = [np.sin, scipy.signal.square, (lambda t: scipy.signal.sawtooth(t, width=0.5))]\n",
    "frequencies = [0.1, 0.35, 0.6, 0.85, 1.1]\n",
    "num_cases = len(frequencies) * len(functions)\n",
    "\n",
    "for f in functions:\n",
    "    for freq in frequencies:\n",
    "        dat = gen_function_data(f, freq, NSAMPLE//(num_cases))\n",
    "        output_dfs.append(dat)"
   ]
  },
  {
   "cell_type": "markdown",
   "metadata": {},
   "source": [
    "# Generating Synth Sourced Data\n",
    "\n",
    "Generating some data sourced from regular functions."
   ]
  },
  {
   "cell_type": "code",
   "execution_count": null,
   "metadata": {},
   "outputs": [],
   "source": [
    "# Save synthetic Data in a compressed numpy file.\n",
    "dataset_location = '../datasets/'\n",
    "dataset_filename = 'empi-synthetic-dataset.npz'\n",
    "log_arrays = [np.array(log_df[['dt', 'value']]) for log_df in output_dfs]\n",
    "\n",
    "## Generate some stats and convert to compressed formats.\n",
    "raw_perfs = []\n",
    "acc = 0\n",
    "time = 0\n",
    "interactions = 0\n",
    "for l in log_arrays:\n",
    "    acc += l.shape[0] * l.shape[1]\n",
    "    interactions += l.shape[0]\n",
    "    time += l.T[0].sum()\n",
    "    raw = l.astype('float32')  # dt, x_1, ... , x_n\n",
    "    raw_perfs.append(raw)\n",
    "\n",
    "print(\"total number of values:\", acc)\n",
    "print(\"total number of interactions:\", interactions)\n",
    "print(\"total time represented:\", time, \"seconds\")\n",
    "print(\"total number of perfs in raw array:\", len(raw_perfs))\n",
    "raw_perfs = np.array(raw_perfs)\n",
    "np.savez_compressed(dataset_location + dataset_filename, perfs=raw_perfs)\n",
    "print(\"done saving:\", dataset_location + dataset_filename)"
   ]
  },
  {
   "cell_type": "markdown",
   "metadata": {},
   "source": [
    "# Generating Noise Sourced Data\n",
    "\n",
    "Generating some data sourced from uniform noise."
   ]
  },
  {
   "cell_type": "code",
   "execution_count": null,
   "metadata": {},
   "outputs": [],
   "source": [
    "# Save noise Data in a compressed numpy file.\n",
    "NSAMPLE = 45000 #150000\n",
    "dataset_location = '../datasets/'\n",
    "dataset_filename = 'empi-noise-dataset.npz'\n",
    "log_arrays = [np.array(gen_noise(NSAMPLE)[['dt', 'value']])]\n",
    "\n",
    "## Generate some stats and convert to compressed formats.\n",
    "raw_perfs = []\n",
    "acc = 0\n",
    "time = 0\n",
    "interactions = 0\n",
    "for l in log_arrays:\n",
    "    acc += l.shape[0] * l.shape[1]\n",
    "    interactions += l.shape[0]\n",
    "    time += l.T[0].sum()\n",
    "    raw = l.astype('float32')  # dt, x_1, ... , x_n\n",
    "    raw_perfs.append(raw)\n",
    "\n",
    "print(\"total number of values:\", acc)\n",
    "print(\"total number of interactions:\", interactions)\n",
    "print(\"total time represented:\", time, \"seconds\")\n",
    "print(\"total number of perfs in raw array:\", len(raw_perfs))\n",
    "raw_perfs = np.array(raw_perfs)\n",
    "np.savez_compressed(dataset_location + dataset_filename, perfs=raw_perfs)\n",
    "print(\"done saving:\", dataset_location + dataset_filename)"
   ]
  },
  {
   "cell_type": "markdown",
   "metadata": {},
   "source": [
    "## Generating Synthetic data:\n",
    "\n",
    "The idea is to generate some data that \"could\" have been human, but has a regular pattern. The time axis is sampled from a normal distribution with the same mean and S.D. as the human corpus. The value axis is generated by applying regular signal functions (e.g., sine, square, triangle) to this time axis.\n"
   ]
  },
  {
   "cell_type": "code",
   "execution_count": null,
   "metadata": {},
   "outputs": [],
   "source": [
    "small_data_length=1000\n",
    "\n",
    "def plot_gen_data(data_df, name=\"unknown\", colour='b'):\n",
    "    \"\"\"Plot the data in output_df assuming it has columns x and time\"\"\"\n",
    "    sns.set_style('whitegrid')\n",
    "    sns.set_context('paper')\n",
    "    f, ax = plt.subplots(figsize=(3, 2))\n",
    "    sns.lineplot(x='seconds', y='value', data=data_df[:300], ax=ax, legend=False, color=colour)\n",
    "    ax.set_xlabel(\"seconds\")\n",
    "    ax.set_ylabel(\"position\")\n",
    "    ax.set(ylim=(-0.1, 1.1))\n",
    "    sns.despine(f, left=True, bottom=True)\n",
    "    ax.get_figure().savefig('../images/synth_data_output/'+name+'_data_output.pdf', dpi=300, bbox_inches=\"tight\")\n",
    "    ax.get_figure().savefig('../images/synth_data_output/'+name+'_data_output.png', dpi=300, bbox_inches=\"tight\")\n",
    "\n",
    "colour = sns.color_palette('deep')[0]\n",
    "\n",
    "# Generate fake Sine movement\n",
    "sine_df = gen_function_data(np.sin, 0.1, small_data_length)\n",
    "display(sine_df.describe())\n",
    "plot_gen_data(sine_df, name='sine', colour=colour)\n",
    "\n",
    "# Generate fake Squarey Movement\n",
    "square_df = gen_function_data(scipy.signal.square, 0.1, small_data_length)\n",
    "display(square_df.describe())\n",
    "plot_gen_data(square_df, name='square', colour=colour)\n",
    "\n",
    "# Generate fake triangle-y Movement\n",
    "tri_df = gen_function_data(scipy.signal.sawtooth, 0.1, small_data_length)\n",
    "display(tri_df.describe())\n",
    "plot_gen_data(tri_df, name='tri', colour=colour)\n",
    "\n",
    "# Generate noise\n",
    "noise_df = gen_noise(small_data_length)\n",
    "display(noise_df.describe())\n",
    "plot_gen_data(noise_df, name='noise', colour=colour)"
   ]
  }
 ],
 "metadata": {
  "kernelspec": {
   "display_name": "Python 3",
   "language": "python",
   "name": "python3"
  },
  "language_info": {
   "codemirror_mode": {
    "name": "ipython",
    "version": 3
   },
   "file_extension": ".py",
   "mimetype": "text/x-python",
   "name": "python",
   "nbconvert_exporter": "python",
   "pygments_lexer": "ipython3",
   "version": "3.7.4"
  }
 },
 "nbformat": 4,
 "nbformat_minor": 2
}
