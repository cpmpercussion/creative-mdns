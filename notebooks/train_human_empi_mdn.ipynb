{
 "cells": [
  {
   "cell_type": "markdown",
   "metadata": {},
   "source": [
    "# Training and Testing an MDRNN on Human Data\n",
    "\n",
    "This script trains and tests a mixture density recurrent neural network (MDRNN) on a 10-minute human sourced performance."
   ]
  },
  {
   "cell_type": "code",
   "execution_count": 2,
   "metadata": {},
   "outputs": [
    {
     "name": "stderr",
     "output_type": "stream",
     "text": [
      "Using TensorFlow backend.\n"
     ]
    }
   ],
   "source": [
    "%matplotlib inline\n",
    "from __future__ import absolute_import\n",
    "from __future__ import division\n",
    "from __future__ import print_function\n",
    "import numpy as np\n",
    "import matplotlib.pyplot as plt\n",
    "import pandas as pd\n",
    "import tensorflow as tf\n",
    "import time\n",
    "from context import *"
   ]
  },
  {
   "cell_type": "code",
   "execution_count": 35,
   "metadata": {},
   "outputs": [
    {
     "name": "stdout",
     "output_type": "stream",
     "text": [
      "Processing: 2019-01-24T08-58-07-rnnbox.log\n",
      "Old RNNbox file, dividing by 255\n",
      "Processing: 2019-01-24T08-40-36-rnnbox.log\n",
      "Old RNNbox file, dividing by 255\n",
      "Processing: 2019-01-24T09-02-01-rnnbox.log\n",
      "Old RNNbox file, dividing by 255\n",
      "Processing: 2019-01-24T08-43-02-rnnbox.log\n",
      "Old RNNbox file, dividing by 255\n",
      "Processing: 2019-01-24T08-39-29-rnnbox.log\n",
      "Old RNNbox file, dividing by 255\n",
      "Processing: 2018-01-25T14-04-35-rnnbox.log\n",
      "Old RNNbox file, dividing by 255\n",
      "Processing: 2019-01-24T08-48-51-rnnbox.log\n",
      "Old RNNbox file, dividing by 255\n",
      "total number of values: 93828\n",
      "total number of interactions: 46914\n",
      "total time represented: 2395.7481309999994\n",
      "total number of perfs in raw array: 7\n",
      "done saving: datasets/empi-training-dataset-2d.npz\n"
     ]
    }
   ],
   "source": [
    "def transform_log_to_sequence_example(logfile, dimension):\n",
    "    data_names = ['x'+str(i) for i in range(dimension-1)]\n",
    "    column_names = ['date', 'source'] + data_names\n",
    "    perf_df = pd.read_csv(logfile,\n",
    "                          header=None, parse_dates=True,\n",
    "                          index_col=0, names=column_names)\n",
    "    #  Filter out RNN lines, just keep 'interface'\n",
    "    if \"rnnbox\" in logfile:\n",
    "        print(\"Old RNNbox file, dividing by 255\")\n",
    "        perf_df.x0 /= 255\n",
    "    perf_df = perf_df[perf_df.source == 'interface']\n",
    "    #  Process times.\n",
    "    perf_df['t'] = perf_df.index\n",
    "    perf_df.t = perf_df.t.diff()\n",
    "    perf_df.t = perf_df.t.dt.total_seconds()\n",
    "    perf_df = perf_df.dropna()\n",
    "    return np.array(perf_df[['t']+data_names])\n",
    "\n",
    "\n",
    "# Load up the performances\n",
    "log_location = \"../rnn_box_data/\"\n",
    "log_file_ending = \".log\" #\"-\" + str(args.dimension) + \"d-mdrnn.log\"\n",
    "log_arrays = []\n",
    "\n",
    "for local_file in os.listdir(log_location):\n",
    "    if local_file.endswith(log_file_ending):\n",
    "        print(\"Processing:\", local_file)\n",
    "        try:\n",
    "            log = transform_log_to_sequence_example(log_location + local_file,2)\n",
    "            log_arrays.append(log)\n",
    "        except Exception:\n",
    "            print(\"Processing failed for\", local_file)        \n",
    "\n",
    "# Save Performance Data in a compressed numpy file.\n",
    "dataset_location = 'datasets/'\n",
    "dataset_filename = 'empi-training-dataset-2d.npz'\n",
    "\n",
    "# Input format is:\n",
    "# 0. 1. 2. ... n.\n",
    "# dt x1 x2 ... xn\n",
    "\n",
    "raw_perfs = []\n",
    "\n",
    "acc = 0\n",
    "time = 0\n",
    "interactions = 0\n",
    "for l in log_arrays:\n",
    "    acc += l.shape[0] * l.shape[1]\n",
    "    interactions += l.shape[0]\n",
    "    time += l.T[0].sum()\n",
    "    raw = l.astype('float32')  # dt, x_1, ... , x_n\n",
    "    raw_perfs.append(raw)\n",
    "\n",
    "print(\"total number of values:\", acc)\n",
    "print(\"total number of interactions:\", interactions)\n",
    "print(\"total time represented:\", time)\n",
    "print(\"total number of perfs in raw array:\", len(raw_perfs))\n",
    "raw_perfs = np.array(raw_perfs)\n",
    "np.savez_compressed(\"../\" + dataset_location + dataset_filename, perfs=raw_perfs)\n",
    "print(\"done saving:\", dataset_location + dataset_filename)"
   ]
  }
 ],
 "metadata": {
  "kernelspec": {
   "display_name": "Python 3",
   "language": "python",
   "name": "python3"
  },
  "language_info": {
   "codemirror_mode": {
    "name": "ipython",
    "version": 3
   },
   "file_extension": ".py",
   "mimetype": "text/x-python",
   "name": "python",
   "nbconvert_exporter": "python",
   "pygments_lexer": "ipython3",
   "version": "3.6.5"
  }
 },
 "nbformat": 4,
 "nbformat_minor": 2
}
