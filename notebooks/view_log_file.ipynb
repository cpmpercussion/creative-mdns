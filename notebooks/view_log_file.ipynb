{
 "cells": [
  {
   "cell_type": "code",
   "execution_count": null,
   "metadata": {},
   "outputs": [],
   "source": [
    "import numpy as np\n",
    "import pandas as pd\n",
    "import os\n",
    "\n",
    "MAXIMUM_DT = 20.0\n",
    "\n",
    "def transform_log_to_sequence_example(logfile, dimension):\n",
    "    data_names = ['x'+str(i) for i in range(dimension-1)]\n",
    "    column_names = ['date', 'source'] + data_names\n",
    "    perf_df = pd.read_csv(logfile,\n",
    "                          header=None, parse_dates=True,\n",
    "                          index_col=0, names=column_names)\n",
    "    #  Filter out RNN lines, just keep 'interface'\n",
    "    if \"rnnbox\" in logfile:\n",
    "        print(\"Old RNNbox file, dividing by 255\")\n",
    "        perf_df.x0 /= 255\n",
    "    perf_df = perf_df[perf_df.source == 'interface']\n",
    "    #  Process times.\n",
    "    perf_df['t'] = perf_df.index\n",
    "    perf_df.t = perf_df.t.diff()\n",
    "    perf_df.t = perf_df.t.dt.total_seconds()\n",
    "    perf_df = perf_df.dropna()\n",
    "    perf_df.at[perf_df[perf_df.t > MAXIMUM_DT].index, 't'] = MAXIMUM_DT\n",
    "    print(perf_df.describe())\n",
    "    return np.array(perf_df[['t']+data_names])\n",
    "\n"
   ]
  },
  {
   "cell_type": "code",
   "execution_count": null,
   "metadata": {},
   "outputs": [],
   "source": [
    "column_names = ['date', 'source', 'x0']\n",
    "perf_df = pd.read_csv(logfile,\n",
    "                      header=None, parse_dates=True,\n",
    "                      index_col=0, names=column_names)"
   ]
  },
  {
   "cell_type": "code",
   "execution_count": null,
   "metadata": {},
   "outputs": [],
   "source": [
    "import matplotlib.pyplot as plt"
   ]
  },
  {
   "cell_type": "code",
   "execution_count": null,
   "metadata": {},
   "outputs": [],
   "source": [
    "perf_df.x0[4000:8000].plot()"
   ]
  },
  {
   "cell_type": "code",
   "execution_count": null,
   "metadata": {},
   "outputs": [],
   "source": [
    "logfile = \"2019-09-23T01-52-53-2d-mdrnn.log\"\n",
    "\n",
    "transform_log_to_sequence_example(logfile, 2)"
   ]
  },
  {
   "cell_type": "code",
   "execution_count": null,
   "metadata": {},
   "outputs": [],
   "source": [
    "# Load up the performances\n",
    "log_location = \"rnn_box_data/\"\n",
    "log_file_ending = \".log\" #\"-\" + str(args.dimension) + \"d-mdrnn.log\"\n",
    "log_arrays = []\n",
    "\n",
    "for local_file in os.listdir(log_location):\n",
    "    if local_file.endswith(log_file_ending):\n",
    "        print(\"Processing:\", local_file)\n",
    "        try:\n",
    "            log = transform_log_to_sequence_example(log_location + local_file,2)\n",
    "            log_arrays.append(log)\n",
    "        except Exception:\n",
    "            print(\"Processing failed for\", local_file)        \n",
    "\n",
    "# Save Performance Data in a compressed numpy file.\n",
    "dataset_location = 'datasets/'\n",
    "dataset_filename = 'empi-human-dataset.npz'\n",
    "\n",
    "# Input format is:\n",
    "# 0. 1. 2. ... n.\n",
    "# dt x1 x2 ... xn\n",
    "\n",
    "raw_perfs = []\n",
    "acc = 0\n",
    "time = 0\n",
    "interactions = 0\n",
    "for l in log_arrays:\n",
    "    acc += l.shape[0] * l.shape[1]\n",
    "    interactions += l.shape[0]\n",
    "    print(\"interactions:\", l.shape[0])\n",
    "    time += l.T[0].sum()\n",
    "    try:\n",
    "        max_time = l.T[0].max()\n",
    "    except:\n",
    "        max_time = 0\n",
    "    print(\"max_time:\", max_time)\n",
    "    raw = l.astype('float32')  # dt, x_1, ... , x_n\n",
    "    raw_perfs.append(raw)\n",
    "\n",
    "print(\"total number of values:\", acc)\n",
    "print(\"total number of interactions:\", interactions)\n",
    "print(\"total time represented:\", time)\n",
    "print(\"total number of perfs in raw array:\", len(raw_perfs))\n",
    "raw_perfs = np.array(raw_perfs)\n",
    "np.savez_compressed(dataset_location + dataset_filename, perfs=raw_perfs)\n",
    "print(\"done saving:\", dataset_location + dataset_filename)\n"
   ]
  }
 ],
 "metadata": {
  "kernelspec": {
   "display_name": "Python 3",
   "language": "python",
   "name": "python3"
  },
  "language_info": {
   "codemirror_mode": {
    "name": "ipython",
    "version": 3
   },
   "file_extension": ".py",
   "mimetype": "text/x-python",
   "name": "python",
   "nbconvert_exporter": "python",
   "pygments_lexer": "ipython3",
   "version": "3.7.4"
  }
 },
 "nbformat": 4,
 "nbformat_minor": 2
}
